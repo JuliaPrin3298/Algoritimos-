{
  "nbformat": 4,
  "nbformat_minor": 0,
  "metadata": {
    "colab": {
      "provenance": [],
      "authorship_tag": "ABX9TyMNsdN5ALAzsMfIPzNbOkBT",
      "include_colab_link": true
    },
    "kernelspec": {
      "name": "python3",
      "display_name": "Python 3"
    },
    "language_info": {
      "name": "python"
    }
  },
  "cells": [
    {
      "cell_type": "markdown",
      "metadata": {
        "id": "view-in-github",
        "colab_type": "text"
      },
      "source": [
        "<a href=\"https://colab.research.google.com/github/JuliaPrin3298/Algoritimos-/blob/main/Aula_4.ipynb\" target=\"_parent\"><img src=\"https://colab.research.google.com/assets/colab-badge.svg\" alt=\"Open In Colab\"/></a>"
      ]
    },
    {
      "cell_type": "code",
      "execution_count": 3,
      "metadata": {
        "colab": {
          "base_uri": "https://localhost:8080/"
        },
        "id": "Q3UTlm36qwVF",
        "outputId": "effc4e89-61bb-4e4c-9bf7-112608ac3e13"
      },
      "outputs": [
        {
          "output_type": "stream",
          "name": "stdout",
          "text": [
            "digite o inicio: 1\n",
            "Digite o fim: 12\n",
            "i= 1\n",
            "soma = soma\n",
            "i= 2\n",
            "soma = soma\n",
            "i= 3\n",
            "soma = soma\n",
            "i= 4\n",
            "soma = soma\n",
            "i= 5\n",
            "soma = soma\n",
            "i= 6\n",
            "soma = soma\n",
            "i= 7\n",
            "soma = soma\n",
            "i= 8\n",
            "soma = soma\n",
            "i= 9\n",
            "soma = soma\n",
            "i= 10\n",
            "soma = soma\n",
            "i= 11\n",
            "soma = soma\n"
          ]
        }
      ],
      "source": [
        "inicio = int(input(\"digite o inicio: \"))\n",
        "fim = int(input(\"Digite o fim: \"))\n",
        "#passo = int(input(\"Digite o passo:\"))\n",
        "\n",
        "#for i in range(inicio,fim, passo)\n",
        "for i in range(inicio, fim):\n",
        "    print (f\"i= {i}\")\n",
        "    soma =+ 1\n",
        "\n",
        "    print(f\"soma = soma\")"
      ]
    },
    {
      "cell_type": "code",
      "source": [
        "inicio = int(input(\"digite o inicio: \"))\n",
        "fim = int(input(\"Digite o fim: \"))\n",
        "#passo = int(input(\"Digite o passo:\"))\n",
        "\n",
        "#for i in range(inicio,fim, passo)\n",
        "for i in range(inicio, fim):\n",
        "    print (f\"i= {1}\")\n",
        "    soma += 1\n",
        "\n",
        "    print(f\"soma = soma\")\n",
        "\n",
        ""
      ],
      "metadata": {
        "id": "he6H1PDlsXZe"
      },
      "execution_count": null,
      "outputs": []
    },
    {
      "cell_type": "code",
      "source": [
        "inicio = int(input(\"digite o inicio: \"))\n",
        "fim = int(input(\"Digite o fim: \"))\n",
        "\n",
        "for i in range(inicio, fim):\n",
        "    #print(i)\n",
        "if i % 2 == 0 :\n",
        "    print(f\"{i} = PAR\")\n",
        "    soma_par =+ i\n",
        "\n",
        "else:\n",
        "    print(f\"{i} = IMPAR\")\n",
        "    cont_impar =+ 1\n",
        "    soma_par =+ i\n",
        "\n",
        "    print(f\"Soma dos pares = {soma_par}\")\n",
        "    print(f\"Soma dos impares = {soma_impar}\")\n",
        "    print(f\"Qtd dos impares = {cont_impar}\")\n",
        "    print(f\"Media dos impares = {soma_impar/cont_impar}\")"
      ],
      "metadata": {
        "id": "vGYXiABMt5fS"
      },
      "execution_count": null,
      "outputs": []
    },
    {
      "cell_type": "markdown",
      "source": [
        "raspberry\n"
      ],
      "metadata": {
        "id": "fa0MRSDuvYXz"
      }
    },
    {
      "cell_type": "code",
      "source": [
        "for i in range(1, 6):\n",
        "  num1 = float(input(f\"Digite o valor {i}: \"))\n",
        "\n",
        "  soma =+ num1\n",
        "\n",
        "  print(f\"Soma: {soma}\")"
      ],
      "metadata": {
        "colab": {
          "base_uri": "https://localhost:8080/"
        },
        "id": "PMxkPY8UzXuB",
        "outputId": "28f04ec5-7916-45c0-d3ec-755df151bf2a"
      },
      "execution_count": 4,
      "outputs": [
        {
          "name": "stdout",
          "output_type": "stream",
          "text": [
            "Digite o valor 1: 3\n",
            "Digite o valor 2: 7\n",
            "Digite o valor 3: 0\n",
            "Digite o valor 4: 2\n",
            "Digite o valor 5: 7\n"
          ]
        }
      ]
    },
    {
      "cell_type": "markdown",
      "source": [
        "Contagem regrassiva inversa\n"
      ],
      "metadata": {
        "id": "7h4LKnPd0Cg0"
      }
    },
    {
      "cell_type": "code",
      "source": [
        "for i in range(10, 0, -1):\n",
        "  num1 = float(input(f\"faltam {i} segundos: \"))"
      ],
      "metadata": {
        "colab": {
          "base_uri": "https://localhost:8080/"
        },
        "id": "pr7cApdi0HRm",
        "outputId": "ffd1defc-1d4f-4c92-dbd5-d171df74b67d"
      },
      "execution_count": 5,
      "outputs": [
        {
          "name": "stdout",
          "output_type": "stream",
          "text": [
            "faltam 10 segundos1\n",
            "faltam 9 segundos2\n",
            "faltam 8 segundos3\n",
            "faltam 7 segundos4\n",
            "faltam 6 segundos5\n",
            "faltam 5 segundos7\n",
            "faltam 4 segundos8\n",
            "faltam 3 segundos9\n",
            "faltam 2 segundos0\n",
            "faltam 1 segundos0\n"
          ]
        }
      ]
    }
  ]
}