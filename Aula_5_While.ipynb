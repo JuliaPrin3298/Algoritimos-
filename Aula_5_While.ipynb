{
  "nbformat": 4,
  "nbformat_minor": 0,
  "metadata": {
    "colab": {
      "provenance": [],
      "authorship_tag": "ABX9TyNQjSsiZJ0UD1Q0VWlYFGIu",
      "include_colab_link": true
    },
    "kernelspec": {
      "name": "python3",
      "display_name": "Python 3"
    },
    "language_info": {
      "name": "python"
    }
  },
  "cells": [
    {
      "cell_type": "markdown",
      "metadata": {
        "id": "view-in-github",
        "colab_type": "text"
      },
      "source": [
        "<a href=\"https://colab.research.google.com/github/JuliaPrin3298/Algoritimos-/blob/main/Aula_5_While.ipynb\" target=\"_parent\"><img src=\"https://colab.research.google.com/assets/colab-badge.svg\" alt=\"Open In Colab\"/></a>"
      ]
    },
    {
      "cell_type": "markdown",
      "source": [
        "Soma de Números: Crie um programa que solicite ao usuário para inserir números e some esses números até que o usuário insira zero. Quando zero for inserido, o programa deve imprimir a soma total."
      ],
      "metadata": {
        "id": "Dpp_wYJJOow6"
      }
    },
    {
      "cell_type": "code",
      "execution_count": 5,
      "metadata": {
        "colab": {
          "base_uri": "https://localhost:8080/"
        },
        "id": "UnBPznssOkYm",
        "outputId": "6c9e39b0-4eb2-4822-e155-e31fc376de66"
      },
      "outputs": [
        {
          "output_type": "stream",
          "name": "stdout",
          "text": [
            "Digite um número: 5\n",
            "Digite outro número: 6\n",
            "Digite outro número: 87\n",
            "Digite outro número: 43\n",
            "Digite outro número: 6\n",
            "Digite outro número: 5\n",
            "Digite outro número: 1\n",
            "Digite outro número: 0\n",
            "Soma total: 153\n"
          ]
        }
      ],
      "source": [
        "soma = 0\n",
        "numero = int(input(\"Digite um número: \"))\n",
        "\n",
        "while numero != 0:\n",
        "    soma += numero\n",
        "    numero = int(input(\"Digite outro número: \"))\n",
        "\n",
        "print(\"Soma total:\", soma)\n",
        "\n",
        ""
      ]
    },
    {
      "cell_type": "markdown",
      "source": [
        "Encontrar o Máximo: Crie um programa que peça ao usuário para inserir números e encontre o maior número inserido. O programa deve continuar pedindo números até que o usuário digite \"sair\"."
      ],
      "metadata": {
        "id": "snVhRqkrOn8x"
      }
    },
    {
      "cell_type": "code",
      "source": [
        "numero = input(\"Digite um número: \")\n",
        "maior = 0\n",
        "\n",
        "while numero != \"sair\":\n",
        "    numero = int(numero)\n",
        "    if numero > maior:\n",
        "        maior = numero\n",
        "    numero = input(\"Digite outro número: \")\n",
        "\n",
        "print(\"O maior número é:\", maior)"
      ],
      "metadata": {
        "colab": {
          "base_uri": "https://localhost:8080/"
        },
        "id": "11vrs1eZfPB3",
        "outputId": "d8499cb5-3adf-4f0d-faa3-b0ceb40c740b"
      },
      "execution_count": 11,
      "outputs": [
        {
          "output_type": "stream",
          "name": "stdout",
          "text": [
            "Digite um número: 20\n",
            "Digite outro número: 4\n",
            "Digite outro número: 2\n",
            "Digite outro número: 10\n",
            "Digite outro número: 21\n",
            "Digite outro número: sair\n",
            "O maior número é: 21\n"
          ]
        }
      ]
    },
    {
      "cell_type": "markdown",
      "source": [
        "Quantidade de valores: Conte quantos valores positivos, negativos e zeros foram digitados."
      ],
      "metadata": {
        "id": "xZbTveuvgBQD"
      }
    },
    {
      "cell_type": "code",
      "source": [
        "positivo = 0\n",
        "negativo = 0\n",
        "zero = 0\n",
        "\n",
        "numero = input(\"Digite um número: \")\n",
        "\n",
        "while numero != \"sair\":\n",
        "    numero = int(numero)\n",
        "\n",
        "    if numero > 0:\n",
        "        positivo += 1\n",
        "    elif numero < 0:\n",
        "        negativo += 1\n",
        "    else:\n",
        "        zero += 1\n",
        "\n",
        "    numero = input(\"Digite outro número (ou 'sair' para encerrar): \")\n",
        "\n",
        "print(\"Quantidade de números positivos:\", positivo)\n",
        "print(\"Quantidade de números negativos:\", negativo)\n",
        "print(\"Quantidade de zeros:\", zero)\n"
      ],
      "metadata": {
        "colab": {
          "base_uri": "https://localhost:8080/"
        },
        "id": "j3RLZfqCgHim",
        "outputId": "fb921900-924a-47f7-f8a4-efc51012444a"
      },
      "execution_count": 19,
      "outputs": [
        {
          "output_type": "stream",
          "name": "stdout",
          "text": [
            "Digite um número: 1\n",
            "Digite outro número (ou 'sair' para encerrar): 23\n",
            "Digite outro número (ou 'sair' para encerrar): -12\n",
            "Digite outro número (ou 'sair' para encerrar): -18\n",
            "Digite outro número (ou 'sair' para encerrar): 0\n",
            "Digite outro número (ou 'sair' para encerrar): 23\n",
            "Digite outro número (ou 'sair' para encerrar): 98\n",
            "Digite outro número (ou 'sair' para encerrar): -100\n",
            "Digite outro número (ou 'sair' para encerrar): sair\n",
            "Quantidade de números positivos: 4\n",
            "Quantidade de números negativos: 3\n",
            "Quantidade de zeros: 1\n"
          ]
        }
      ]
    },
    {
      "cell_type": "markdown",
      "source": [
        "Conversão de Temperatura: Faça um programa que converta uma temperatura de Celsius para Fahrenheit. Continue pedindo ao usuário para inserir uma nova temperatura em Celsius até que ele digite \"sair\".\n",
        "°F = °C × 1,8 + 32"
      ],
      "metadata": {
        "id": "K7EV3Yrxk0MU"
      }
    },
    {
      "cell_type": "code",
      "source": [
        "temp = input(\"Digite a temperatura em Celsius: \")\n",
        "\n",
        "while temp != \"sair\":\n",
        "  temp = float(temp)\n",
        "  fare = temp * 1.8 + 32\n",
        "  print(f\"Os {temp} em Celsius são {fare} em Farenheit\")\n",
        "  temp = input(\"Digite uma nova temperatura: \")\n"
      ],
      "metadata": {
        "colab": {
          "base_uri": "https://localhost:8080/"
        },
        "id": "0ZIVuVafk5Nz",
        "outputId": "e530fd09-a74c-4c1f-80e9-d1108aa136aa"
      },
      "execution_count": 20,
      "outputs": [
        {
          "name": "stdout",
          "output_type": "stream",
          "text": [
            "Digite a temperatura em Celsius: 32\n",
            "Os 32.0 em Celsius são 89.6 em Farenheit\n",
            "Digite uma nova temperatura: 18\n",
            "Os 18.0 em Celsius são 64.4 em Farenheit\n",
            "Digite uma nova temperatura: sair\n"
          ]
        }
      ]
    },
    {
      "cell_type": "markdown",
      "source": [
        "Simulador de Caixa Eletrônico: Crie um programa que simule um caixa eletrônico, que continue pedindo ao usuário para inserir um valor de saque até que o saldo da conta seja zero ou negativo."
      ],
      "metadata": {
        "id": "qH0T6xlJmGEs"
      }
    },
    {
      "cell_type": "code",
      "source": [
        "saldo = 2000\n",
        "\n",
        "while saldo > 0:\n",
        "    saque = float(input(\"Digite o valor do saque: R$\"))\n",
        "\n",
        "    if saque <= 0:\n",
        "        print(\"Valor inválido! O saque deve ser maior que zero.\\n\")\n",
        "    elif saque > saldo:\n",
        "        print(f\"Você não tem saldo suficiente! Seu saldo atual é R${saldo:.2f}.\\n\")\n",
        "    else:\n",
        "        saldo -= saque\n",
        "        print(f\"Saque de R${saque:.2f} realizado com sucesso.\")\n",
        "        print(f\"Saldo atual: R${saldo:.2f}\\n\")\n",
        "\n",
        "print(\"Seu saldo está esgotado ou negativo. Operações encerradas.\")\n"
      ],
      "metadata": {
        "colab": {
          "base_uri": "https://localhost:8080/"
        },
        "id": "E6MagtE6mFZT",
        "outputId": "8f0d2153-d454-4fbb-fb3a-24633cccb958"
      },
      "execution_count": 25,
      "outputs": [
        {
          "output_type": "stream",
          "name": "stdout",
          "text": [
            "Digite o valor do saque: R$20\n",
            "Digite o valor do saque: R$30\n",
            "Saque de R$30.00 realizado com sucesso.\n",
            "Saldo atual: R$1970.00\n",
            "\n",
            "Digite o valor do saque: R$200\n",
            "Saque de R$200.00 realizado com sucesso.\n",
            "Saldo atual: R$1770.00\n",
            "\n",
            "Digite o valor do saque: R$300\n",
            "Saque de R$300.00 realizado com sucesso.\n",
            "Saldo atual: R$1470.00\n",
            "\n",
            "Digite o valor do saque: R$147\n",
            "Saque de R$147.00 realizado com sucesso.\n",
            "Saldo atual: R$1323.00\n",
            "\n",
            "Digite o valor do saque: R$323\n",
            "Saque de R$323.00 realizado com sucesso.\n",
            "Saldo atual: R$1000.00\n",
            "\n",
            "Digite o valor do saque: R$999\n",
            "Saque de R$999.00 realizado com sucesso.\n",
            "Saldo atual: R$1.00\n",
            "\n",
            "Digite o valor do saque: R$1\n",
            "Saque de R$1.00 realizado com sucesso.\n",
            "Saldo atual: R$0.00\n",
            "\n",
            "Seu saldo está esgotado ou negativo. Operações encerradas.\n"
          ]
        }
      ]
    },
    {
      "cell_type": "markdown",
      "source": [
        "Média de Notas: Escreva um programa que continue pedindo ao usuário para inserir notas (0 a 10) e calcule a média dessas notas. O programa deve parar quando o usuário digitar uma nota negativa."
      ],
      "metadata": {
        "id": "sU3g1XjDoWiK"
      }
    },
    {
      "cell_type": "code",
      "source": [
        "nota = float(input(\"Digite uma nota (entre 0 e 10): \"))\n",
        "soma = 0\n",
        "contador = 0\n",
        "\n",
        "while nota >= 0 :\n",
        "  soma += nota\n",
        "  contador += 1\n",
        "  nota = float(input(\"Digite uma nota (entre 0 e 10): \"))\n",
        "  if nota < 0:\n",
        "    break\n",
        "  elif nota > 10:\n",
        "    print(\"Nota inválida. Digite uma nota entre 0 e 10.\")\n",
        "    contador -= 1\n",
        "    soma -= nota\n",
        "\n",
        "media = soma / contador\n",
        "print(f\"A média das notas é {media:.2f}\")\n"
      ],
      "metadata": {
        "colab": {
          "base_uri": "https://localhost:8080/"
        },
        "id": "glOjfiWmocUp",
        "outputId": "44069c39-71ca-41ba-ddda-118311f6d350"
      },
      "execution_count": 28,
      "outputs": [
        {
          "output_type": "stream",
          "name": "stdout",
          "text": [
            "Digite uma nota (entre 0 e 10): 2\n",
            "Digite uma nota (entre 0 e 10): 3\n",
            "Digite uma nota (entre 0 e 10): 4\n",
            "Digite uma nota (entre 0 e 10): 18\n",
            "Nota inválida. Digite uma nota entre 0 e 10.\n",
            "Digite uma nota (entre 0 e 10): 10\n",
            "Digite uma nota (entre 0 e 10): 5\n",
            "Digite uma nota (entre 0 e 10): -1\n",
            "A média das notas é 4.80\n"
          ]
        }
      ]
    },
    {
      "cell_type": "markdown",
      "source": [
        "Conversor de Moeda: Crie um programa que converta uma quantia em dólares para euros. Continue pedindo ao usuário quantias em dólares para converter até que ele insira \"0\"."
      ],
      "metadata": {
        "id": "YIFgglLsp1bD"
      }
    },
    {
      "cell_type": "code",
      "source": [
        "dolar = int(input(\"Digite o valor em dólar: \"))\n",
        "\n",
        "while dolar != 0:\n",
        "  euro = dolar * 0.88\n",
        "  print(f\"O valor convertido em euros é: {euro}\")\n",
        "  dolar = int(input(\"Digite o valor em dólar: \"))\n"
      ],
      "metadata": {
        "colab": {
          "base_uri": "https://localhost:8080/"
        },
        "id": "uzert1RWqPpK",
        "outputId": "8875b913-0d46-45ba-f718-62e93e65e219"
      },
      "execution_count": 29,
      "outputs": [
        {
          "name": "stdout",
          "output_type": "stream",
          "text": [
            "Digite o valor em dólar: 30\n",
            "O valor convertido em euros é: 26.4\n",
            "Digite o valor em dólar: 29\n",
            "O valor convertido em euros é: 25.52\n",
            "Digite o valor em dólar: 19\n",
            "O valor convertido em euros é: 16.72\n",
            "Digite o valor em dólar: 50\n",
            "O valor convertido em euros é: 44.0\n",
            "Digite o valor em dólar: 70\n",
            "O valor convertido em euros é: 61.6\n",
            "Digite o valor em dólar: 0\n"
          ]
        }
      ]
    },
    {
      "cell_type": "markdown",
      "source": [
        "Controle de Estoque: Faça um controle de estoque com menu de entrada, saída e exibição.\n",
        "\n"
      ],
      "metadata": {
        "id": "mBq6oL_brcBG"
      }
    },
    {
      "cell_type": "code",
      "source": [
        "estoque = {}\n",
        "\n",
        "while True:\n",
        "    print(\"\\n=== Menu de Controle de Estoque ===\")\n",
        "    print(\"1. Entrada de produto\")\n",
        "    print(\"2. Saída de produto\")\n",
        "    print(\"3. Exibir estoque\")\n",
        "    print(\"4. Sair\")\n",
        "\n",
        "    opcao = input(\"Escolha uma opção (1-4): \").strip()\n",
        "\n",
        "    if opcao == \"1\":\n",
        "        produto = input(\"Digite o nome do produto: \").strip()\n",
        "        if produto in estoque:\n",
        "            quantidade = int(input(f\"Quantos {produto}s você deseja adicionar? \"))\n",
        "            estoque[produto] += quantidade\n",
        "            print(f\"{quantidade} unidades de {produto} adicionadas ao estoque.\")\n",
        "        else:\n",
        "            quantidade = int(input(f\"Quantos {produto}s você deseja adicionar? \"))\n",
        "            estoque[produto] = quantidade\n",
        "            print(f\"{quantidade} unidades de {produto} adicionadas ao estoque.\")\n",
        "\n",
        "    elif opcao == \"2\":\n",
        "        produto = input(\"Digite o nome do produto para saída: \").strip()\n",
        "        if produto in estoque:\n",
        "            quantidade = int(input(f\"Quantas unidades de {produto} você deseja retirar? \"))\n",
        "            if quantidade <= estoque[produto]:\n",
        "                estoque[produto] -= quantidade\n",
        "                print(f\"{quantidade} unidades de {produto} retiradas do estoque.\")\n",
        "            else:\n",
        "                print(f\"Não há estoque suficiente para retirar {quantidade} unidades de {produto}.\")\n",
        "        else:\n",
        "            print(f\"O produto {produto} não está no estoque.\")\n",
        "\n",
        "    elif opcao == \"3\":\n",
        "        if estoque:\n",
        "            print(\"\\nEstoque atual:\")\n",
        "            for produto, quantidade in estoque.items():\n",
        "                print(f\"{produto}: {quantidade} unidades\")\n",
        "        else:\n",
        "            print(\"O estoque está vazio.\")\n",
        "\n",
        "    elif opcao == \"4\":\n",
        "        print(\"Saindo... Até logo!\")\n",
        "        break\n",
        "\n",
        "\n",
        "    else:\n",
        "        print(\"Opção inválida! Tente novamente.\")\n"
      ],
      "metadata": {
        "colab": {
          "base_uri": "https://localhost:8080/"
        },
        "id": "6QepamQHriXi",
        "outputId": "89806063-31c2-46c4-aa07-ebe23dfc952b"
      },
      "execution_count": 30,
      "outputs": [
        {
          "output_type": "stream",
          "name": "stdout",
          "text": [
            "\n",
            "=== Menu de Controle de Estoque ===\n",
            "1. Entrada de produto\n",
            "2. Saída de produto\n",
            "3. Exibir estoque\n",
            "4. Sair\n",
            "Escolha uma opção (1-4): 3\n",
            "O estoque está vazio.\n",
            "\n",
            "=== Menu de Controle de Estoque ===\n",
            "1. Entrada de produto\n",
            "2. Saída de produto\n",
            "3. Exibir estoque\n",
            "4. Sair\n",
            "Escolha uma opção (1-4): 1\n",
            "Digite o nome do produto: Batata\n",
            "Quantos Batatas você deseja adicionar? 30\n",
            "30 unidades de Batata adicionadas ao estoque.\n",
            "\n",
            "=== Menu de Controle de Estoque ===\n",
            "1. Entrada de produto\n",
            "2. Saída de produto\n",
            "3. Exibir estoque\n",
            "4. Sair\n",
            "Escolha uma opção (1-4): 2\n",
            "Digite o nome do produto para saída: farinha\n",
            "O produto farinha não está no estoque.\n",
            "\n",
            "=== Menu de Controle de Estoque ===\n",
            "1. Entrada de produto\n",
            "2. Saída de produto\n",
            "3. Exibir estoque\n",
            "4. Sair\n",
            "Escolha uma opção (1-4): 1\n",
            "Digite o nome do produto: Farinha\n",
            "Quantos Farinhas você deseja adicionar? 20\n",
            "20 unidades de Farinha adicionadas ao estoque.\n",
            "\n",
            "=== Menu de Controle de Estoque ===\n",
            "1. Entrada de produto\n",
            "2. Saída de produto\n",
            "3. Exibir estoque\n",
            "4. Sair\n",
            "Escolha uma opção (1-4): Farinha\n",
            "Opção inválida! Tente novamente.\n",
            "\n",
            "=== Menu de Controle de Estoque ===\n",
            "1. Entrada de produto\n",
            "2. Saída de produto\n",
            "3. Exibir estoque\n",
            "4. Sair\n",
            "Escolha uma opção (1-4): 2\n",
            "Digite o nome do produto para saída: Farinha\n",
            "Quantas unidades de Farinha você deseja retirar? 1\n",
            "1 unidades de Farinha retiradas do estoque.\n",
            "\n",
            "=== Menu de Controle de Estoque ===\n",
            "1. Entrada de produto\n",
            "2. Saída de produto\n",
            "3. Exibir estoque\n",
            "4. Sair\n",
            "Escolha uma opção (1-4): 3\n",
            "\n",
            "Estoque atual:\n",
            "Batata: 30 unidades\n",
            "Farinha: 19 unidades\n",
            "\n",
            "=== Menu de Controle de Estoque ===\n",
            "1. Entrada de produto\n",
            "2. Saída de produto\n",
            "3. Exibir estoque\n",
            "4. Sair\n",
            "Escolha uma opção (1-4): 4\n",
            "Saindo... Até logo!\n"
          ]
        }
      ]
    },
    {
      "cell_type": "markdown",
      "source": [
        "Simulação de Dados de Sensor: Crie um programa que simule a leitura de dados de um sensor e continue capturando dados até que um valor fora do intervalo de operação seja detectado (por exemplo, fora de 0 a 100)."
      ],
      "metadata": {
        "id": "Ujp1INJGs2Dx"
      }
    },
    {
      "cell_type": "code",
      "source": [
        "nummin = int(0)\n",
        "nummax = int(100)\n",
        "\n",
        "while True:\n",
        "  num = int(input(\"Digite um numero: \"))\n",
        "  if nummin <= num <= nummax:\n",
        "    print(\"O número está dentro do intervalo\")\n",
        "  else:\n",
        "    print(\"O número está fora do intervalo\")\n",
        "    break"
      ],
      "metadata": {
        "colab": {
          "base_uri": "https://localhost:8080/"
        },
        "id": "zGuP_FDKtBdL",
        "outputId": "22e882a3-bece-4dac-b061-083713092786"
      },
      "execution_count": 33,
      "outputs": [
        {
          "output_type": "stream",
          "name": "stdout",
          "text": [
            "Digite um numero: 20\n",
            "O número está dentro do intervalo\n",
            "Digite um numero: 12\n",
            "O número está dentro do intervalo\n",
            "Digite um numero: 0\n",
            "O número está dentro do intervalo\n",
            "Digite um numero: 100\n",
            "O número está dentro do intervalo\n",
            "Digite um numero: 200\n",
            "O número está fora do intervalo\n"
          ]
        }
      ]
    },
    {
      "cell_type": "markdown",
      "source": [
        "Controle de Votação: Faça um programa que permita cadastrar votos para 3 candidatos. Exibe contagem ao final quando for digitado \"fim\"."
      ],
      "metadata": {
        "id": "PtfyTOlpvMhJ"
      }
    },
    {
      "cell_type": "code",
      "source": [
        "# Dicionário para armazenar os votos\n",
        "votos = {\"Laura\": 0, \"Felipe\": 0, \"Tomas\": 0}\n",
        "contador = 0\n",
        "\n",
        "while True:\n",
        "    print(\"\\n=== Menu de Votação ===\")\n",
        "    print(\"1. Laura\")\n",
        "    print(\"2. Felipe\")\n",
        "    print(\"3. Tomas\")\n",
        "    print(\"4. Sair\")\n",
        "\n",
        "    opcao = input(\"Escolha uma opção (1-4): \").strip()\n",
        "\n",
        "    if opcao == \"1\":\n",
        "        votos[\"Laura\"] += 1\n",
        "        print(\"Voto registrado para Laura.\")\n",
        "    elif opcao == \"2\":\n",
        "        votos[\"Felipe\"] += 1\n",
        "        print(\"Voto registrado para Felipe.\")\n",
        "    elif opcao == \"3\":\n",
        "        votos[\"Tomas\"] += 1\n",
        "        print(\"Voto registrado para Tomas.\")\n",
        "    elif opcao == \"4\":\n",
        "        print(\"Saindo... Até logo!\")\n",
        "        break\n",
        "    else:\n",
        "        print(\"Opção inválida! Tente novamente.\")\n",
        "        continue\n",
        "\n",
        "    # Incrementa o contador após cada voto registrado\n",
        "    contador += 1\n",
        "\n",
        "    # Verifica se o número de votos alcançou 3\n",
        "    if contador == 3:\n",
        "        print(\"\\nA votação foi encerrada!\")\n",
        "        break\n",
        "\n",
        "# Exibe o resultado da votação\n",
        "print(\"\\nResultados finais da votação:\")\n",
        "# Determina quem teve mais votos\n",
        "vencedor = max(votos, key=votos.get)\n",
        "print(f\"O vencedor foi {vencedor} com {votos[vencedor]} votos.\")\n"
      ],
      "metadata": {
        "colab": {
          "base_uri": "https://localhost:8080/"
        },
        "id": "VOwZ9I8wvPEh",
        "outputId": "849e94bf-c95a-4aa7-a9ee-73f6a7bf7740"
      },
      "execution_count": 38,
      "outputs": [
        {
          "output_type": "stream",
          "name": "stdout",
          "text": [
            "\n",
            "=== Menu de Votação ===\n",
            "1. Laura\n",
            "2. Felipe\n",
            "3. Tomas\n",
            "4. Sair\n",
            "Escolha uma opção (1-4): 2\n",
            "Voto registrado para Felipe.\n",
            "\n",
            "=== Menu de Votação ===\n",
            "1. Laura\n",
            "2. Felipe\n",
            "3. Tomas\n",
            "4. Sair\n",
            "Escolha uma opção (1-4): 1\n",
            "Voto registrado para Laura.\n",
            "\n",
            "=== Menu de Votação ===\n",
            "1. Laura\n",
            "2. Felipe\n",
            "3. Tomas\n",
            "4. Sair\n",
            "Escolha uma opção (1-4): 4\n",
            "Saindo... Até logo!\n",
            "\n",
            "Resultados finais da votação:\n",
            "O vencedor foi Laura com 1 votos.\n"
          ]
        }
      ]
    },
    {
      "cell_type": "markdown",
      "source": [
        "Simulador de Caixa Registradora: O usuário digita o preço e a quantidade de produtos até digitar “sair”. O Sistema mostra a quantidade de produtos e o valor final da compra."
      ],
      "metadata": {
        "id": "MmexA9Nwx0Hb"
      }
    },
    {
      "cell_type": "code",
      "source": [
        "total_produtos = 0\n",
        "valor_total = 0.0\n",
        "\n",
        "print(\"Simulador de Caixa Registradora\")\n",
        "print(\"Digite 'sair' para finalizar a compra.\")\n",
        "\n",
        "while True:\n",
        "    preco = input(\"Digite o preço do produto: \").strip()\n",
        "\n",
        "    if preco.lower() == \"sair\":\n",
        "        break\n",
        "\n",
        "    quantidade = input(\"Digite a quantidade do produto: \").strip()\n",
        "\n",
        "    preco = float(preco)\n",
        "    quantidade = int(quantidade)\n",
        "\n",
        "    total_produtos += quantidade\n",
        "    valor_total += preco * quantidade\n",
        "\n",
        "    print(f\"Produto adicionado! {quantidade} unidades por R${preco:.2f} cada.\")\n",
        "\n",
        "print(\"\\nResumo da Compra:\")\n",
        "print(f\"Quantidade total de produtos: {total_produtos}\")\n",
        "print(f\"Valor total da compra: R${valor_total:.2f}\")\n"
      ],
      "metadata": {
        "colab": {
          "base_uri": "https://localhost:8080/"
        },
        "id": "pe_wlPjwx3wS",
        "outputId": "5af4fc3d-b45e-4182-fa6d-f998f58f669b"
      },
      "execution_count": 40,
      "outputs": [
        {
          "output_type": "stream",
          "name": "stdout",
          "text": [
            "Simulador de Caixa Registradora\n",
            "Digite 'sair' para finalizar a compra.\n",
            "Digite o preço do produto: 20\n",
            "Digite a quantidade do produto: 3\n",
            "Produto adicionado! 3 unidades por R$20.00 cada.\n",
            "Digite o preço do produto: 9\n",
            "Digite a quantidade do produto: 10\n",
            "Produto adicionado! 10 unidades por R$9.00 cada.\n",
            "Digite o preço do produto: sair\n",
            "\n",
            "Resumo da Compra:\n",
            "Quantidade total de produtos: 13\n",
            "Valor total da compra: R$150.00\n"
          ]
        }
      ]
    },
    {
      "cell_type": "markdown",
      "source": [
        "Sistema de Vendas com Estoque Reduzido: O Sistema define um estoque inicial de produtos e a cada venda, retira quantidade do estoque. O sistema encerra quando não permite vender mais do que o disponível."
      ],
      "metadata": {
        "id": "OQX0Ytfs0SeE"
      }
    },
    {
      "cell_type": "code",
      "source": [
        "estoque = {\n",
        "    \"Amaciante\": 50,\n",
        "    \"desinfetante\": 30,\n",
        "    \"Sabão em pó\": 20\n",
        "}\n",
        "\n",
        "total_vendas = 0\n",
        "valor_total = 0.0\n",
        "\n",
        "print(\"Sistema de Vendas com Estoque Reduzido\")\n",
        "print(\"Estoque Inicial:\")\n",
        "produtos = list(estoque.keys())\n",
        "quantidades = list(estoque.values())\n",
        "\n",
        "i = 0\n",
        "while i < 3:\n",
        "    print(f\"{produtos[i]}: {quantidades[i]} unidades\")\n",
        "    i += 1\n",
        "\n",
        "while True:\n",
        "    print(\"\\nDigite o nome do produto para venda ou 'sair' para encerrar.\")\n",
        "    produto_venda = input(\"Produto: \").strip()\n",
        "\n",
        "    if produto_venda.lower() == \"sair\":\n",
        "        break\n",
        "\n",
        "    i = 0\n",
        "    produto_encontrado = False\n",
        "    while i < 3:\n",
        "        if produtos[i].lower() == produto_venda.lower():\n",
        "            produto_encontrado = True\n",
        "            break\n",
        "        i += 1\n",
        "\n",
        "    if produto_encontrado == False:\n",
        "        print(f\"Produto {produto_venda} não encontrado no estoque.\")\n",
        "        continue\n",
        "\n",
        "    quantidade_venda = input(f\"Digite a quantidade de {produto_venda} para venda: \").strip()\n",
        "\n",
        "    i = 0\n",
        "    valido_quantidade = True\n",
        "    while i < len(quantidade_venda):\n",
        "        if not quantidade_venda[i].isdigit():\n",
        "            valido_quantidade = False\n",
        "            break\n",
        "        i += 1\n",
        "\n",
        "    if valido_quantidade == False:\n",
        "        print(\"Quantidade inválida! Digite um número inteiro.\")\n",
        "        continue\n",
        "\n",
        "    quantidade_venda = int(quantidade_venda)\n",
        "\n",
        "    i = 0\n",
        "    while i < 3:\n",
        "        if produtos[i].lower() == produto_venda.lower():\n",
        "            if quantidade_venda > quantidades[i]:\n",
        "                print(f\"Quantidade solicitada excede o estoque disponível de {quantidades[i]} unidades.\")\n",
        "                break\n",
        "            quantidades[i] -= quantidade_venda\n",
        "            total_vendas += quantidade_venda\n",
        "            valor_total += quantidade_venda * 10\n",
        "            print(f\"Venda realizada: {quantidade_venda} unidades de {produto_venda}.\")\n",
        "            print(f\"Estoque atualizado: {produtos[i]}: {quantidades[i]} unidades restantes.\")\n",
        "            break\n",
        "        i += 1\n",
        "\n",
        "\n",
        "print(\"\\nResumo das Vendas:\")\n",
        "print(f\"Total de unidades vendidas: {total_vendas}\")\n",
        "print(f\"Valor total das vendas: R${valor_total:.2f}\")\n",
        "\n",
        "\n",
        "print(\"\\nEstoque Final:\")\n",
        "i = 0\n",
        "while i < 3:  # Sabemos que são 3 produtos, iteramos 3 vezes\n",
        "    print(f\"{produtos[i]}: {quantidades[i]} unidades restantes.\")\n",
        "    i += 1\n"
      ],
      "metadata": {
        "colab": {
          "base_uri": "https://localhost:8080/"
        },
        "id": "pbnJ1xnD0Wqv",
        "outputId": "a71df79a-1bfd-4494-d20a-8a25c197bd44"
      },
      "execution_count": 42,
      "outputs": [
        {
          "output_type": "stream",
          "name": "stdout",
          "text": [
            "Sistema de Vendas com Estoque Reduzido\n",
            "Estoque Inicial:\n",
            "Amaciante: 50 unidades\n",
            "desinfetante: 30 unidades\n",
            "Sabão em pó: 20 unidades\n",
            "\n",
            "Digite o nome do produto para venda ou 'sair' para encerrar.\n",
            "Produto: Amaciante\n",
            "Digite a quantidade de Amaciante para venda: 2o\n",
            "Quantidade inválida! Digite um número inteiro.\n",
            "\n",
            "Digite o nome do produto para venda ou 'sair' para encerrar.\n",
            "Produto: Amaciante\n",
            "Digite a quantidade de Amaciante para venda: 20\n",
            "Venda realizada: 20 unidades de Amaciante.\n",
            "Estoque atualizado: Amaciante: 30 unidades restantes.\n",
            "\n",
            "Digite o nome do produto para venda ou 'sair' para encerrar.\n",
            "Produto: sair\n",
            "\n",
            "Resumo das Vendas:\n",
            "Total de unidades vendidas: 20\n",
            "Valor total das vendas: R$200.00\n",
            "\n",
            "Estoque Final:\n",
            "Amaciante: 30 unidades restantes.\n",
            "desinfetante: 30 unidades restantes.\n",
            "Sabão em pó: 20 unidades restantes.\n"
          ]
        }
      ]
    }
  ]
}