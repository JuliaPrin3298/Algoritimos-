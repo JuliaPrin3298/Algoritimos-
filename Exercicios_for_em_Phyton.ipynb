{
  "nbformat": 4,
  "nbformat_minor": 0,
  "metadata": {
    "colab": {
      "provenance": [],
      "authorship_tag": "ABX9TyO1BCciLKX0FoBeFiaDiVKb",
      "include_colab_link": true
    },
    "kernelspec": {
      "name": "python3",
      "display_name": "Python 3"
    },
    "language_info": {
      "name": "python"
    }
  },
  "cells": [
    {
      "cell_type": "markdown",
      "metadata": {
        "id": "view-in-github",
        "colab_type": "text"
      },
      "source": [
        "<a href=\"https://colab.research.google.com/github/JuliaPrin3298/Algoritimos-/blob/main/Exercicios_for_em_Phyton.ipynb\" target=\"_parent\"><img src=\"https://colab.research.google.com/assets/colab-badge.svg\" alt=\"Open In Colab\"/></a>"
      ]
    },
    {
      "cell_type": "markdown",
      "source": [
        "1. Contagem de 1 a 10\n",
        "\n",
        "Tarefa: Escreva um programa que exiba os números de 1 a 10 usando for."
      ],
      "metadata": {
        "id": "U8vLGkZgZB6C"
      }
    },
    {
      "cell_type": "code",
      "execution_count": null,
      "metadata": {
        "colab": {
          "base_uri": "https://localhost:8080/"
        },
        "id": "PxpEfBXIY0-x",
        "outputId": "b3a2ed7b-8a80-404a-97e0-cd17a834b621"
      },
      "outputs": [
        {
          "output_type": "stream",
          "name": "stdout",
          "text": [
            "1\n",
            "2\n",
            "3\n",
            "4\n",
            "5\n",
            "6\n",
            "7\n",
            "8\n",
            "9\n",
            "10\n"
          ]
        }
      ],
      "source": [
        "numero = int\n",
        "\n",
        "for numero in range(1, 11):\n",
        "    print(numero)"
      ]
    },
    {
      "cell_type": "markdown",
      "source": [
        "Tarefa: Peça ao usuário um número e exiba uma contagem de 1 até esse número."
      ],
      "metadata": {
        "id": "l4qYnqh0ZAfW"
      }
    },
    {
      "cell_type": "code",
      "source": [
        "numero = int(input(\"Digite um número maior que 2: \"))\n",
        "\n",
        "for numero in range(1, numero):\n",
        "  print(numero)"
      ],
      "metadata": {
        "colab": {
          "base_uri": "https://localhost:8080/"
        },
        "id": "GIHK4RHJZvPK",
        "outputId": "6a68f19a-fd46-4478-d9d9-2d2f62e53a64"
      },
      "execution_count": null,
      "outputs": [
        {
          "output_type": "stream",
          "name": "stdout",
          "text": [
            "Digite um número maior que 2: 10\n",
            "1\n",
            "2\n",
            "3\n",
            "4\n",
            "5\n",
            "6\n",
            "7\n",
            "8\n",
            "9\n"
          ]
        }
      ]
    },
    {
      "cell_type": "markdown",
      "source": [
        "3. Contagem Regressiva\n",
        "\n",
        "Tarefa: Exiba uma contagem regressiva de 10 até 1 e, ao final, exiba \"Fogo!\"."
      ],
      "metadata": {
        "id": "vssH-brSaGMa"
      }
    },
    {
      "cell_type": "code",
      "source": [
        "for numeros in range(10, 0, -1):  # Vai de 10 até 1\n",
        "    print(numeros)\n",
        "\n",
        "print(\"Fogo!\")\n",
        "\n"
      ],
      "metadata": {
        "colab": {
          "base_uri": "https://localhost:8080/"
        },
        "id": "2eq47D3BaRM9",
        "outputId": "cd3dd42c-8c04-4361-bbc1-64a5b6183125"
      },
      "execution_count": null,
      "outputs": [
        {
          "output_type": "stream",
          "name": "stdout",
          "text": [
            "10\n",
            "9\n",
            "8\n",
            "7\n",
            "6\n",
            "5\n",
            "4\n",
            "3\n",
            "2\n",
            "1\n",
            "Fogo!\n"
          ]
        }
      ]
    },
    {
      "cell_type": "markdown",
      "source": [
        "4. Contagem com Passo Personalizado\n",
        "\n",
        "Tarefa: Peça ao usuário três números: início, fim e passo e exiba a sequência correspondente."
      ],
      "metadata": {
        "id": "vdS4lfE7cM2M"
      }
    },
    {
      "cell_type": "code",
      "source": [
        "inicio = int(input(\"Digite o número de início: \"))\n",
        "fim = int(input(\"Digite o número de fim: \"))\n",
        "passo = int(input(\"Digite o passo da contagem: \"))\n",
        "\n",
        "# Evita passo 0 (isso geraria erro)\n",
        "if passo == 0:\n",
        "    print(\"Passo não pode ser zero! Usando passo 1 como padrão.\")\n",
        "    passo = 1\n",
        "\n",
        "# Se o início for maior que o fim, invertemos o passo para negativo\n",
        "if inicio > fim and passo > 0:\n",
        "    passo = -passo\n",
        "\n",
        "print(\"\\nContando:\")\n",
        "for i in range(inicio, fim + (1 if passo > 0 else -1), passo):\n",
        "    print(i)\n"
      ],
      "metadata": {
        "colab": {
          "base_uri": "https://localhost:8080/"
        },
        "id": "o_6qkcwEdUKk",
        "outputId": "65920639-084a-4c28-8fcf-a2fc9992d545"
      },
      "execution_count": null,
      "outputs": [
        {
          "output_type": "stream",
          "name": "stdout",
          "text": [
            "Digite o número de início: 10\n",
            "Digite o número de fim: 18\n",
            "Digite o passo da contagem: 1\n",
            "\n",
            "Contando:\n",
            "10\n",
            "11\n",
            "12\n",
            "13\n",
            "14\n",
            "15\n",
            "16\n",
            "17\n",
            "18\n"
          ]
        }
      ]
    },
    {
      "cell_type": "markdown",
      "source": [
        "5. Números Pares entre 1 e 20\n",
        "\n",
        "Tarefa: Exiba todos os números pares de 1 a 20."
      ],
      "metadata": {
        "id": "28CzMU0Ud8H3"
      }
    },
    {
      "cell_type": "code",
      "source": [
        "numeros = int\n",
        "for numeros in range(1, 22):\n",
        "  if numeros % 2 == 0:\n",
        "    print(numeros)"
      ],
      "metadata": {
        "colab": {
          "base_uri": "https://localhost:8080/"
        },
        "id": "LnCvS0K6eCWD",
        "outputId": "25c94a16-0a23-4d69-bdd8-699eb905f060"
      },
      "execution_count": null,
      "outputs": [
        {
          "output_type": "stream",
          "name": "stdout",
          "text": [
            "2\n",
            "4\n",
            "6\n",
            "8\n",
            "10\n",
            "12\n",
            "14\n",
            "16\n",
            "18\n",
            "20\n"
          ]
        }
      ]
    },
    {
      "cell_type": "markdown",
      "source": [
        "6. Soma dos Números de 1 a N\n",
        "\n",
        "Tarefa: Solicite um número ao usuário e exiba a soma de 1 até esse número."
      ],
      "metadata": {
        "id": "t4L2aWCsetUz"
      }
    },
    {
      "cell_type": "code",
      "source": [
        "numero = int(input(\"Digite um número: \"))\n",
        "\n",
        "soma = 0\n",
        "for i in range(1, numero + 1):\n",
        "    soma += i\n",
        "\n",
        "print(f\"A soma de 1 até {numero} é: {soma}\")"
      ],
      "metadata": {
        "colab": {
          "base_uri": "https://localhost:8080/"
        },
        "id": "E6vBC1hdNtKE",
        "outputId": "4ad8865a-4882-41a5-8c6c-0da27b92c949"
      },
      "execution_count": 9,
      "outputs": [
        {
          "output_type": "stream",
          "name": "stdout",
          "text": [
            "Digite um número: 2\n",
            "A soma de 1 até 2 é: 3\n"
          ]
        }
      ]
    },
    {
      "cell_type": "markdown",
      "source": [
        "7. Tabuada de um Número\n",
        "\n",
        "Tarefa: Peça ao usuário um número e exiba a tabuada desse número de 1 a 10."
      ],
      "metadata": {
        "id": "-VcASYFXerL7"
      }
    },
    {
      "cell_type": "code",
      "source": [
        "numero = int(input(\"Digite um número: \"))\n",
        "\n",
        "print(f\"Tabuada do {numero}\")\n",
        "\n",
        "for i in range(1, 11):\n",
        "  print(f\"{numero} x {i} = {numero * i}\")"
      ],
      "metadata": {
        "colab": {
          "base_uri": "https://localhost:8080/"
        },
        "id": "Qsrm09A8SK3K",
        "outputId": "c7fd5df1-eeb7-45df-867c-928965abb1af"
      },
      "execution_count": 10,
      "outputs": [
        {
          "output_type": "stream",
          "name": "stdout",
          "text": [
            "Digite um número: 10\n",
            "Tabuada do 10\n",
            "10 x 1 = 10\n",
            "10 x 2 = 20\n",
            "10 x 3 = 30\n",
            "10 x 4 = 40\n",
            "10 x 5 = 50\n",
            "10 x 6 = 60\n",
            "10 x 7 = 70\n",
            "10 x 8 = 80\n",
            "10 x 9 = 90\n",
            "10 x 10 = 100\n"
          ]
        }
      ]
    },
    {
      "cell_type": "markdown",
      "source": [
        "8. Média de Notas\n",
        "\n",
        "Tarefa: Peça 5 notas ao usuário e calcule a média delas."
      ],
      "metadata": {
        "id": "JYcWMHt2SyZK"
      }
    },
    {
      "cell_type": "code",
      "source": [
        "soma = 0\n",
        "for i in range(5):\n",
        "    nota = float(input(f\"Digite a nota {i + 1}: \"))\n",
        "    soma += nota\n",
        "\n",
        "    media = soma / 5\n",
        "print(f\"A média das notas é: {media}\")"
      ],
      "metadata": {
        "colab": {
          "base_uri": "https://localhost:8080/"
        },
        "id": "c_L6p95nS2Gx",
        "outputId": "a750d357-c098-4ac8-b10a-f9909313b566"
      },
      "execution_count": 26,
      "outputs": [
        {
          "output_type": "stream",
          "name": "stdout",
          "text": [
            "Digite a nota 1: 10\n",
            "Digite a nota 2: 10\n",
            "Digite a nota 3: 10\n",
            "Digite a nota 4: 10\n",
            "Digite a nota 5: 10\n",
            "A média das notas é: 10.0\n"
          ]
        }
      ]
    },
    {
      "cell_type": "markdown",
      "source": [
        "9. Soma dos Dígitos de um Número\n",
        "\n",
        "Tarefa: Peça um número ao usuário e some seus dígitos (exemplo: 123 → 1+2+3 = 6)."
      ],
      "metadata": {
        "id": "3BOdojqiXanX"
      }
    },
    {
      "cell_type": "code",
      "source": [
        "numero = input(\"Digite um número: \")\n",
        "soma = 0\n",
        "\n",
        "for i in numero:\n",
        "    soma += int(i)\n",
        "\n",
        "print(f\"A soma dos dígitos de {numero} é: {soma}\")"
      ],
      "metadata": {
        "colab": {
          "base_uri": "https://localhost:8080/"
        },
        "id": "1yBg_ScJXZMg",
        "outputId": "eed4a431-0aea-44c5-c938-69c87f578d1a"
      },
      "execution_count": 29,
      "outputs": [
        {
          "output_type": "stream",
          "name": "stdout",
          "text": [
            "Digite um número: 10\n",
            "A soma dos dígitos de 10 é: 1\n"
          ]
        }
      ]
    },
    {
      "cell_type": "markdown",
      "source": [
        "10. Fatorial de um Número\n",
        "\n",
        "Tarefa: Solicite um número ao usuário e exiba o seu fatorial (n!)."
      ],
      "metadata": {
        "id": "I47ZfGRIY1mf"
      }
    },
    {
      "cell_type": "code",
      "source": [
        "numero = int(input(\"Digite um número: \"))\n",
        "fatorial = 1\n",
        "\n",
        "for i in range(1, numero + 1):\n",
        "    fatorial *= i\n",
        "\n",
        "    print(fatorial)\n",
        "\n",
        "print(f\"O fatorial de {numero} é: {fatorial}\")"
      ],
      "metadata": {
        "colab": {
          "base_uri": "https://localhost:8080/"
        },
        "id": "-ODd6XdRY7xP",
        "outputId": "30a24b09-617c-476c-e761-71dfdc563a40"
      },
      "execution_count": 33,
      "outputs": [
        {
          "output_type": "stream",
          "name": "stdout",
          "text": [
            "Digite um número: 7\n",
            "1\n",
            "2\n",
            "6\n",
            "24\n",
            "120\n",
            "720\n",
            "5040\n",
            "O fatorial de 7 é: 5040\n"
          ]
        }
      ]
    },
    {
      "cell_type": "markdown",
      "source": [
        "11. Números Pares e Ímpares\n",
        "\n",
        "Tarefa: Escreva um programa que exiba os números de 1 a 20 e indique se cada um é par ou ímpar."
      ],
      "metadata": {
        "id": "sphW0pGFalMG"
      }
    },
    {
      "cell_type": "code",
      "source": [
        "numero = int\n",
        "\n",
        "for numero in range(1, 21):\n",
        "  if numero % 2 == 0:\n",
        "    print(f\"O {numero} é par.\")\n",
        "  else:\n",
        "      print(f\"O {numero} é ímpar\")"
      ],
      "metadata": {
        "colab": {
          "base_uri": "https://localhost:8080/"
        },
        "id": "jwNsz9mrapHl",
        "outputId": "1340354f-44ab-4dcf-cf86-42b05229f6c0"
      },
      "execution_count": 37,
      "outputs": [
        {
          "output_type": "stream",
          "name": "stdout",
          "text": [
            "O 1 é ímpar\n",
            "O 2 é par.\n",
            "O 3 é ímpar\n",
            "O 4 é par.\n",
            "O 5 é ímpar\n",
            "O 6 é par.\n",
            "O 7 é ímpar\n",
            "O 8 é par.\n",
            "O 9 é ímpar\n",
            "O 10 é par.\n",
            "O 11 é ímpar\n",
            "O 12 é par.\n",
            "O 13 é ímpar\n",
            "O 14 é par.\n",
            "O 15 é ímpar\n",
            "O 16 é par.\n",
            "O 17 é ímpar\n",
            "O 18 é par.\n",
            "O 19 é ímpar\n",
            "O 20 é par.\n"
          ]
        }
      ]
    },
    {
      "cell_type": "markdown",
      "source": [
        "12. Tabuada Personalizada\n",
        "\n",
        "Tarefa: Peça um número ao usuário e exiba sua tabuada de 1 a 10, mas se for múltiplo de 3, substitua pelo texto \"Multiplo de 3\"."
      ],
      "metadata": {
        "id": "sSS6TdpAbUL5"
      }
    },
    {
      "cell_type": "code",
      "source": [
        "# Solicita um número ao usuário\n",
        "numero = int(input(\"Digite um número: \"))\n",
        "\n",
        "# Exibe a tabuada de 1 a 10\n",
        "for i in range(1, 11):\n",
        "    resultado = numero * i\n",
        "    if resultado % 3 == 0:\n",
        "        print(f\"{numero} x {i} = Múltiplo de 3\")\n",
        "    else:\n",
        "        print(f\"{numero} x {i} = {resultado}\")\n"
      ],
      "metadata": {
        "colab": {
          "base_uri": "https://localhost:8080/"
        },
        "id": "ja4Ywzb9bjaw",
        "outputId": "4eb9a9bf-990b-45fa-acda-9a3b605cfa22"
      },
      "execution_count": 43,
      "outputs": [
        {
          "output_type": "stream",
          "name": "stdout",
          "text": [
            "Digite um número: 2\n",
            "2 x 1 = 2\n",
            "2 x 2 = 4\n",
            "2 x 3 = Múltiplo de 3\n",
            "2 x 4 = 8\n",
            "2 x 5 = 10\n",
            "2 x 6 = Múltiplo de 3\n",
            "2 x 7 = 14\n",
            "2 x 8 = 16\n",
            "2 x 9 = Múltiplo de 3\n",
            "2 x 10 = 20\n"
          ]
        }
      ]
    },
    {
      "cell_type": "markdown",
      "source": [
        "14. Maior e Menor Número da Lista\n",
        "\n",
        "Tarefa: Peça ao usuário para digitar 5 números e exiba o maior e o menor deles."
      ],
      "metadata": {
        "id": "6TBY2zwdeqna"
      }
    },
    {
      "cell_type": "code",
      "source": [
        "# Inicializa as variáveis para o maior e o menor número\n",
        "menor = float('inf')  # Inicializa o menor número com um valor muito grande\n",
        "maior = float('-inf')  # Inicializa o maior número com um valor muito pequeno\n",
        "\n",
        "# Loop para pedir 5 números ao usuário\n",
        "for i in range(5):\n",
        "    nota = float(input(f\"Digite um número {i + 1}: \"))\n",
        "\n",
        "    # Verifica se a nota é o menor número\n",
        "    if nota < menor:\n",
        "        menor = nota\n",
        "\n",
        "    # Verifica se a nota é o maior número\n",
        "    if nota > maior:\n",
        "        maior = nota\n",
        "\n",
        "# Exibe o maior e o menor número\n",
        "print(f\"O maior número é: {maior}\")\n",
        "print(f\"O menor número é: {menor}\")\n"
      ],
      "metadata": {
        "colab": {
          "base_uri": "https://localhost:8080/"
        },
        "id": "PQEpNd5ce0ge",
        "outputId": "c2b249e8-c747-407c-eac1-c2ce20a003d4"
      },
      "execution_count": 47,
      "outputs": [
        {
          "output_type": "stream",
          "name": "stdout",
          "text": [
            "Digite um número 1: 10\n",
            "Digite um número 2: 2\n",
            "Digite um número 3: 19\n",
            "Digite um número 4: 20\n",
            "Digite um número 5: 40\n",
            "O maior número é: 40.0\n",
            "O menor número é: 2.0\n"
          ]
        }
      ]
    },
    {
      "cell_type": "markdown",
      "source": [
        "15. Números Positivos e Negativos\n",
        "\n",
        "Tarefa: Peça ao usuário 10 números e exiba quantos são positivos, negativos ou zero."
      ],
      "metadata": {
        "id": "mcyxhtjVgS4t"
      }
    },
    {
      "cell_type": "code",
      "source": [
        "\n",
        "menor = float('inf')  # Inicia o menor número com o maior valor possível\n",
        "maior = float('-inf')  # Inicia o maior número com o menor valor possível\n",
        "\n",
        "# Loop para pedir 10 números ao usuário\n",
        "for i in range(10):\n",
        "    nota = float(input(f\"Digite o {i + 1}º número: \"))  # Solicita o número ao usuário\n",
        "\n",
        "    # Verifica se a nota é zero\n",
        "    if nota == 0:\n",
        "        print(\"O número é zero\")\n",
        "\n",
        "    # Atualiza o menor número, caso a nota seja menor\n",
        "    if nota < menor:\n",
        "        menor = nota\n",
        "\n",
        "    # Atualiza o maior número, caso a nota seja maior\n",
        "    if nota > maior:\n",
        "        maior = nota\n",
        "\n",
        "# Exibe o maior e o menor número após o loop\n",
        "print(f\"O maior número é: {maior}\")\n",
        "print(f\"O menor número é: {menor}\")\n",
        "\n"
      ],
      "metadata": {
        "colab": {
          "base_uri": "https://localhost:8080/"
        },
        "id": "tXFvD_nAgty2",
        "outputId": "a27d6f06-595f-4094-c8ce-37dc3bdec0a0"
      },
      "execution_count": 54,
      "outputs": [
        {
          "output_type": "stream",
          "name": "stdout",
          "text": [
            "Digite o 1º número: 10\n",
            "Digite o 2º número: 1\n",
            "Digite o 3º número: 2\n",
            "Digite o 4º número: 3\n",
            "Digite o 5º número: 1\n",
            "Digite o 6º número: -9\n",
            "Digite o 7º número: 1\n",
            "Digite o 8º número: 1\n",
            "Digite o 9º número: 1\n",
            "Digite o 10º número: 1\n",
            "O maior número é: 10.0\n",
            "O menor número é: -9.0\n"
          ]
        }
      ]
    },
    {
      "cell_type": "markdown",
      "source": [
        "16. Contagem de Números Múltiplos de 3 e 5\n",
        "\n",
        "Tarefa: Peça ao usuário um número N e exiba quantos números entre 1 e N são múltiplos de 3 ou 5."
      ],
      "metadata": {
        "id": "bYHH0ag3p-kk"
      }
    },
    {
      "cell_type": "code",
      "source": [
        "numero = int(input(\"Digite um número: \"))\n",
        "\n",
        "for i in range(1, numero + 1):\n",
        "    if i % 3 == 0 or i % 5 == 0:\n",
        "        print(i)"
      ],
      "metadata": {
        "colab": {
          "base_uri": "https://localhost:8080/"
        },
        "id": "Sti7i1FPqE2U",
        "outputId": "5a549c29-215e-4c6c-e05a-48d3b33f3def"
      },
      "execution_count": 55,
      "outputs": [
        {
          "output_type": "stream",
          "name": "stdout",
          "text": [
            "Digite um número: 15\n",
            "3\n",
            "5\n",
            "6\n",
            "9\n",
            "10\n",
            "12\n",
            "15\n"
          ]
        }
      ]
    },
    {
      "cell_type": "markdown",
      "source": [
        "17. Verificador de Paridade de Um Número\n",
        "\n",
        "Tarefa: Solicite ao usuário um número e verifique se ele é par ou ímpar.\n",
        "\n",
        "Se o número for par, divida-o por 2 e exiba o resultado.\n",
        "\n",
        "Se o número for ímpar, multiplique-o por 3 e exiba o resultado."
      ],
      "metadata": {
        "id": "bKgdwzwOq1AK"
      }
    },
    {
      "cell_type": "code",
      "source": [
        "numero = int(input(\"Digite um número: \"))\n",
        "\n",
        "if numero % 2 == 0:\n",
        "    print(f\"O número {numero} é par. Dividindo por 2, o resultado é: {numero / 2}\")\n",
        "else:\n",
        "  print(f\"O número {numero} é ímpar. Dividindo por 3, o resultado é: {numero / 3}\")"
      ],
      "metadata": {
        "colab": {
          "base_uri": "https://localhost:8080/"
        },
        "id": "lPzgUPZWq7s5",
        "outputId": "644eb414-c13e-4ce7-c090-4a8c770b17e6"
      },
      "execution_count": 57,
      "outputs": [
        {
          "output_type": "stream",
          "name": "stdout",
          "text": [
            "Digite um número: 31\n",
            "O número 31 é ímpar. Dividindo por 3, o resultado é: 10.333333333333334\n"
          ]
        }
      ]
    },
    {
      "cell_type": "markdown",
      "source": [
        "19. Adivinhação de Número\n",
        "\n",
        "Tarefa: O computador escolhe um número aleatório de 1 a 10, e o usuário tem 3 tentativas para adivinhar. Dê dicas se o número é maior ou menor."
      ],
      "metadata": {
        "id": "-eCoFdxzswPZ"
      }
    },
    {
      "cell_type": "code",
      "source": [
        "numero = 4\n",
        "\n",
        "for i in range(1, 4):\n",
        "    chute = int(input(\"Tente acertar o número: \"))\n",
        "\n",
        "    if chute == numero:\n",
        "        print(\"Acertou!\")\n",
        "        break  # Encerra o loop se o número for acertado\n",
        "\n",
        "    if chute < numero:\n",
        "        print(\"O número é maior\")\n",
        "\n",
        "    if chute > numero:\n",
        "        print(\"O número é menor\")\n",
        "\n",
        "else:\n",
        "    print(\"Você não acertou o número nas 3 tentativas\")\n"
      ],
      "metadata": {
        "colab": {
          "base_uri": "https://localhost:8080/"
        },
        "id": "abhUZgIKs2i6",
        "outputId": "9a6725e5-dac5-4e32-c64b-0f0fbb8b9fcf"
      },
      "execution_count": 61,
      "outputs": [
        {
          "output_type": "stream",
          "name": "stdout",
          "text": [
            "Tente acertar o número: 4\n",
            "Acertou!\n"
          ]
        }
      ]
    },
    {
      "cell_type": "markdown",
      "source": [
        "20. Números Primos\n",
        "\n",
        "Tarefa: Crie um programa que solicite ao usuário um número e informe se ele é primo ou não. Lembre-se de que um número primo é aquele que é divisível apenas por 1 e por ele mesmo."
      ],
      "metadata": {
        "id": "-3XigaBSu0-p"
      }
    },
    {
      "cell_type": "code",
      "source": [
        "\n",
        "numero = int(input(\"Digite um número: \"))\n",
        "\n",
        "if numero <= 1:\n",
        "    print(f\"{numero} não é um número primo.\")\n",
        "else:\n",
        "    primo = True\n",
        "    for i in range(2, int(numero ** 0.5) + 1):\n",
        "        if numero % i == 0:\n",
        "            primo = False\n",
        "            break\n",
        "\n",
        "    if primo:\n",
        "        print(f\"{numero} é um número primo.\")\n",
        "    else:\n",
        "        print(f\"{numero} não é um número primo.\")\n"
      ],
      "metadata": {
        "colab": {
          "base_uri": "https://localhost:8080/"
        },
        "id": "AqH8uBOfu5JS",
        "outputId": "5a6f356e-6848-46be-ab75-21129bc5286e"
      },
      "execution_count": 64,
      "outputs": [
        {
          "output_type": "stream",
          "name": "stdout",
          "text": [
            "Digite um número: 7\n",
            "7 é um número primo.\n"
          ]
        }
      ]
    }
  ]
}