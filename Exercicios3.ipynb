{
  "nbformat": 4,
  "nbformat_minor": 0,
  "metadata": {
    "colab": {
      "provenance": [],
      "authorship_tag": "ABX9TyPIX/wOlm7MfOOYShgbMBwG",
      "include_colab_link": true
    },
    "kernelspec": {
      "name": "python3",
      "display_name": "Python 3"
    },
    "language_info": {
      "name": "python"
    }
  },
  "cells": [
    {
      "cell_type": "markdown",
      "metadata": {
        "id": "view-in-github",
        "colab_type": "text"
      },
      "source": [
        "<a href=\"https://colab.research.google.com/github/JuliaPrin3298/Algoritimos-/blob/main/Exercicios3.ipynb\" target=\"_parent\"><img src=\"https://colab.research.google.com/assets/colab-badge.svg\" alt=\"Open In Colab\"/></a>"
      ]
    },
    {
      "cell_type": "markdown",
      "source": [
        "Receba dois números do usuário e mostre qual deles\n",
        " é o maior."
      ],
      "metadata": {
        "id": "ZAzx_2DNpkn1"
      }
    },
    {
      "cell_type": "code",
      "source": [
        "num1 = int(input(\"Digite um número: \"))\n",
        "num2 = int(input(\"Digite um número: \"))\n",
        "\n",
        "if num1 > num2:\n",
        "    print(f\"O {num1} é maior que {num2} \")\n",
        "else:\n",
        "    print(f\"O {num2} é maior que {num1}\")\n"
      ],
      "metadata": {
        "colab": {
          "base_uri": "https://localhost:8080/"
        },
        "id": "Rap_qjb6ppL5",
        "outputId": "55d81684-f879-4fa6-e339-946cb924ce07"
      },
      "execution_count": null,
      "outputs": [
        {
          "output_type": "stream",
          "name": "stdout",
          "text": [
            "Digite um número14\n",
            "Digite um número17\n",
            "O 17 é maior que 14\n"
          ]
        }
      ]
    },
    {
      "cell_type": "markdown",
      "source": [
        "Solicite a idade do usuário e informe se ele é menor de idade,\n",
        "maior de idade ou idoso (considerando 18 e 65 anos como limites)."
      ],
      "metadata": {
        "id": "BbJGVwX8rWxb"
      }
    },
    {
      "cell_type": "code",
      "source": [
        "idade = int(input(\"Digite sua idade: \"))\n",
        "\n",
        "if idade >= 66:\n",
        "    print(\"É idoso\")\n",
        "elif idade >= 18:\n",
        "    print(\"É maior de 18 anos\")\n",
        "else:\n",
        "    print(\"É menor de idade\")\n"
      ],
      "metadata": {
        "colab": {
          "base_uri": "https://localhost:8080/"
        },
        "id": "JKrNFJoerY26",
        "outputId": "3387eee5-b0d1-4b23-a17e-68381eb85348"
      },
      "execution_count": null,
      "outputs": [
        {
          "output_type": "stream",
          "name": "stdout",
          "text": [
            "Digite sua idade: 68\n",
            "É idoso\n"
          ]
        }
      ]
    },
    {
      "cell_type": "markdown",
      "source": [
        "Peça ao usuário para inserir a idade de uma pessoa e classifique-a como\n",
        "\"Criança\" (0-12 anos), \"Adolescente\" (13-17 anos), \"Adulto\" (18-64 anos)\n",
        " ou \"Idoso\" (65+ anos)."
      ],
      "metadata": {
        "id": "jfhWl51csN3y"
      }
    },
    {
      "cell_type": "code",
      "source": [
        "idade2 = int(input(\"Insira sua idade: \"))\n",
        "\n",
        "if idade2 >= 65:\n",
        "    print(\"Idoso\")\n",
        "elif idade2 >= 18:\n",
        "    print(\"Adulto\")\n",
        "else:\n",
        "    print(\"Criança\")"
      ],
      "metadata": {
        "colab": {
          "base_uri": "https://localhost:8080/"
        },
        "id": "aBS0PuFbtbSS",
        "outputId": "7f983133-b59e-4ef0-cdb2-07fd2460a335"
      },
      "execution_count": null,
      "outputs": [
        {
          "output_type": "stream",
          "name": "stdout",
          "text": [
            "Insira sua idade: 90\n",
            "Idoso\n"
          ]
        }
      ]
    },
    {
      "cell_type": "markdown",
      "source": [
        "Crie uma calculadora simples que permita ao usuário escolher uma operação\n",
        "(adição, subtração, multiplicação ou divisão) e dois números, e então exiba\n",
        "o resultado."
      ],
      "metadata": {
        "id": "3uIug09_tu3i"
      }
    },
    {
      "cell_type": "code",
      "source": [
        "\n",
        "tipoConta = input(\"Escolha uma operação, Digite (A) para adição; (M) para Multiplicação;\"\n",
        "                  \"(D) para Divisão e (S) para subtração: \")\n",
        "num3 = float(input(\"Digite um número: \"))\n",
        "num4 = float(input(\"Digite um número: \"))\n",
        "\n",
        "if tipoConta == \"A\":\n",
        "    print(f\"O resultado da sua conta é {num3 +num4}\")\n",
        "elif tipoConta == \"S\":\n",
        "    print(f\"O resultado da sua conta é {num3 - num4}\")\n",
        "elif tipoConta == \"M\":\n",
        "    print(f\"O resultado da sua conta é {num3 * num4}\")\n",
        "elif tipoConta == \"D\":\n",
        "    print(f\"O resultado da sua conta é {num3 / num4}\")\n",
        "else:\n",
        "    print(\"Escolha uma operação\")"
      ],
      "metadata": {
        "colab": {
          "base_uri": "https://localhost:8080/"
        },
        "id": "PMzJrDf-wCZA",
        "outputId": "7990e46a-0cd4-4759-b9d3-c50ad88bbc72"
      },
      "execution_count": null,
      "outputs": [
        {
          "output_type": "stream",
          "name": "stdout",
          "text": [
            "Escolha uma operação, Digite (A) para adição; (M) para Multiplicação;(D) para Divisão e (S) para subtração: M\n",
            "Digite um número: 1\n",
            "Digite um número: 1\n",
            "O resultado da sua conta é 1.0\n"
          ]
        }
      ]
    },
    {
      "cell_type": "markdown",
      "source": [
        "Peça um número ao usuário e informe se ele é par ou ímpar."
      ],
      "metadata": {
        "id": "ZyKt3tGCxTSV"
      }
    },
    {
      "cell_type": "code",
      "source": [
        "num5 = int(input(\"Digite um número: \"))\n",
        "\n",
        "if num5 % 2 == 0:\n",
        "    print(\"O número é par\")\n",
        "else:\n",
        "    print(\"O número é ímpar\")"
      ],
      "metadata": {
        "colab": {
          "base_uri": "https://localhost:8080/"
        },
        "id": "nLLyBdULxT28",
        "outputId": "174ee5b3-5daf-4041-acb4-17072c4d209b"
      },
      "execution_count": null,
      "outputs": [
        {
          "output_type": "stream",
          "name": "stdout",
          "text": [
            "Digite um número: 3\n",
            "O número é ímpar\n"
          ]
        }
      ]
    },
    {
      "cell_type": "markdown",
      "source": [
        "Crie um programa que simule um sistema de login.\n",
        "Solicite um nome de usuário e senha e verifique se as credenciais estão corretas."
      ],
      "metadata": {
        "id": "icKGhIW8zppV"
      }
    },
    {
      "cell_type": "code",
      "source": [
        "username = input(\"Digite seu Username: \")\n",
        "senha = input(\"Digite sua senha: \")\n",
        "\n",
        "if username == \"JuliaLinda\" and senha == \"1234\":\n",
        "    print(\"Logado\")\n",
        "elif username == \"JuliaLinda\" and senha != \"1234\":\n",
        "    print(\"Senha Incoreta\")\n",
        "elif username != \"JuliaLinda\" and senha == \"1234\":\n",
        "    print(\"Username Incorreto\")\n",
        "else:\n",
        "    print(\"Username e Senha Incorretos\")"
      ],
      "metadata": {
        "colab": {
          "base_uri": "https://localhost:8080/"
        },
        "id": "-ZzxDTF_zsy7",
        "outputId": "94afe6d8-5fc2-4cd2-9f3f-eb45779903ce"
      },
      "execution_count": null,
      "outputs": [
        {
          "output_type": "stream",
          "name": "stdout",
          "text": [
            "Digite seu Username: jujuba\n",
            "Digite sua senha: 1111\n",
            "Username e Senha Incorretos\n"
          ]
        }
      ]
    },
    {
      "cell_type": "markdown",
      "source": [
        "Receba a nota de um aluno e classifique-a como A (90-100), B (80-89), C (70-79), D (60-69), ou F (menos de 60)."
      ],
      "metadata": {
        "id": "QcTOFfoyz_E5"
      }
    },
    {
      "cell_type": "code",
      "source": [
        "nota = int(input(\"Digite sua nota: \"))\n",
        "\n",
        "if nota >= 101:\n",
        "    print(\"Essa nota não existe\")\n",
        "elif nota >= 90:\n",
        "    print(\"Aluno nota A\")\n",
        "elif nota >= 80:\n",
        "    print(\"Aluno nota B\")\n",
        "elif nota >= 70:\n",
        "    print(\"Aluno nota C\")\n",
        "elif nota >= 60:\n",
        "    print(\"Aluno nota D\")\n",
        "else:\n",
        "    print(\"Aluno nota F\")"
      ],
      "metadata": {
        "colab": {
          "base_uri": "https://localhost:8080/"
        },
        "id": "xJcwEnkv1YoP",
        "outputId": "cc4e185f-2987-4816-bf91-b6b0f39f2ab9"
      },
      "execution_count": null,
      "outputs": [
        {
          "output_type": "stream",
          "name": "stdout",
          "text": [
            "Digite sua nota29\n",
            "Aluno nota F\n"
          ]
        }
      ]
    },
    {
      "cell_type": "markdown",
      "source": [
        "Peça ao usuário seu peso e altura, calcule o Índice de Massa Corporal\n",
        "(IMC) e classifique-o como \"Abaixo do peso\", \"Peso normal\", \"Sobrepeso\"\n",
        "ou \"Obesidade\"."
      ],
      "metadata": {
        "id": "Z5RizwDC3SmH"
      }
    },
    {
      "cell_type": "code",
      "source": [
        "peso = float(input(\"Digite seu peso: \"))\n",
        "altura = float(input(\"Digite sua altura: \"))\n",
        "imc = peso / altura ** 2\n",
        "\n",
        "if imc >= 25:\n",
        "    print(f\"Sobrepeso, com {imc} de IMC\")\n",
        "elif imc >= 18.5:\n",
        "    print(f\"Peso normal, com {imc} de IMC\")\n",
        "else:\n",
        "    print(f\"Abaixo do peso, com {imc} de IMC\")\n"
      ],
      "metadata": {
        "colab": {
          "base_uri": "https://localhost:8080/"
        },
        "id": "T3BPmK_43VWh",
        "outputId": "31912db5-bfbb-4ae7-f9a8-ba20eb5b262a"
      },
      "execution_count": null,
      "outputs": [
        {
          "output_type": "stream",
          "name": "stdout",
          "text": [
            "Digite seu peso: 79\n",
            "Digite sua altura: 1.78\n",
            "Peso normal, com 24.933720489837143 de IMC\n"
          ]
        }
      ]
    },
    {
      "cell_type": "markdown",
      "source": [
        "Solicite o preço de um produto e aplique um desconto de 10% se o preço\n",
        " for maior que R$ 100. Exiba o valor final."
      ],
      "metadata": {
        "id": "vHPK7akPL6IU"
      }
    },
    {
      "cell_type": "code",
      "source": [
        "produto = float(input(\"Digite o preço do produto: \"))\n",
        "desconto = 10 * produto / 100\n",
        "precof = produto - desconto\n",
        "\n",
        "if produto >= 100:\n",
        "    print(f\"O produto tem desconto, o preço final é {precof}\")\n",
        "else:\n",
        "    print(\"O produto não tem desconto\")"
      ],
      "metadata": {
        "colab": {
          "base_uri": "https://localhost:8080/"
        },
        "id": "RDbWgq4DL9Jc",
        "outputId": "9fda4150-6324-4546-96ca-e3c1af47d989"
      },
      "execution_count": 1,
      "outputs": [
        {
          "output_type": "stream",
          "name": "stdout",
          "text": [
            "Digite o preço do produto: 101\n",
            "O produto tem desconto, o preço final é 90.9\n"
          ]
        }
      ]
    },
    {
      "cell_type": "markdown",
      "source": [
        "Desenvolva um programa que permita ao usuário escolher uma operação\n",
        "(saque, depósito) e simule o comportamento de um caixa eletrônico\n",
        "com validações básicas (ex.: saldo insuficiente para saque)."
      ],
      "metadata": {
        "id": "MKsNdTDeMIyE"
      }
    },
    {
      "cell_type": "code",
      "source": [
        "operacao = input(\"Escolha a operação, (S) para Saque e (D) para depósito: \")\n",
        "saldo = 398\n",
        "\n",
        "if operacao == \"S\":\n",
        "    saque = int(input(\"Digite o valor para saque: \"))\n",
        "    if saque > saldo:\n",
        "        print(f\"Saque indisponível. Saldo disponível: {saldo}\")\n",
        "    elif saque <= saldo:\n",
        "        saldo -= saque\n",
        "        print(f\"Saque realizado. Saldo atual: {saldo}\")\n",
        "\n",
        "elif operacao == \"D\":\n",
        "    deposito = int(input(\"Digite o valor do depósito: \"))\n",
        "    saldo += deposito\n",
        "    print(f\"Depósito realizado. Seu saldo atual é: {saldo}\")\n",
        "\n",
        "else:\n",
        "    print(\"Operação inválida.\")"
      ],
      "metadata": {
        "colab": {
          "base_uri": "https://localhost:8080/"
        },
        "id": "KUsHAVgqMKCV",
        "outputId": "a8840bd3-db18-419e-e9b3-2e041c85f4e7"
      },
      "execution_count": 12,
      "outputs": [
        {
          "output_type": "stream",
          "name": "stdout",
          "text": [
            "Escolha a operação, (S) para Saque e (D) para depósito: S\n",
            "Digite o valor para saque: 300\n",
            "Saque realizado. Saldo atual: 98\n"
          ]
        }
      ]
    },
    {
      "cell_type": "markdown",
      "source": [
        "Faça um programa que leia a idade e a categoria de um jogador\n",
        "de futebol (juvenil, adulto, veterano) e calcule a sua\n",
        "classificação no time."
      ],
      "metadata": {
        "id": "hKbHOdggOB6u"
      }
    },
    {
      "cell_type": "code",
      "source": [
        "idade3 = int(input(\"Digite sua idade: \"))\n",
        "\n",
        "if idade3 >= 50:\n",
        "    print(\"Você é veterano\")\n",
        "elif idade3 >= 18:\n",
        "    print(\"Você é adulto\")\n",
        "else:\n",
        "    print(\"Você é juvenil\")"
      ],
      "metadata": {
        "colab": {
          "base_uri": "https://localhost:8080/"
        },
        "id": "v3IDN3_-OErs",
        "outputId": "f4e7944b-049e-473c-f62b-d504bdefc21d"
      },
      "execution_count": 15,
      "outputs": [
        {
          "output_type": "stream",
          "name": "stdout",
          "text": [
            "Digite sua idade: 12\n",
            "Você é juvenil\n"
          ]
        }
      ]
    }
  ]
}