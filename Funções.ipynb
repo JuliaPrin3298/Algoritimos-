{
  "nbformat": 4,
  "nbformat_minor": 0,
  "metadata": {
    "colab": {
      "provenance": [],
      "authorship_tag": "ABX9TyNleLtZpLaU33dU8YmTNLgu",
      "include_colab_link": true
    },
    "kernelspec": {
      "name": "python3",
      "display_name": "Python 3"
    },
    "language_info": {
      "name": "python"
    }
  },
  "cells": [
    {
      "cell_type": "markdown",
      "metadata": {
        "id": "view-in-github",
        "colab_type": "text"
      },
      "source": [
        "<a href=\"https://colab.research.google.com/github/JuliaPrin3298/Algoritimos-/blob/main/Fun%C3%A7%C3%B5es.ipynb\" target=\"_parent\"><img src=\"https://colab.research.google.com/assets/colab-badge.svg\" alt=\"Open In Colab\"/></a>"
      ]
    },
    {
      "cell_type": "markdown",
      "source": [
        "FUNÇÔES"
      ],
      "metadata": {
        "id": "lfLGCGdywDPa"
      }
    },
    {
      "cell_type": "code",
      "execution_count": 9,
      "metadata": {
        "id": "iQUA3DE8v-6K"
      },
      "outputs": [],
      "source": [
        "def saudacao():\n",
        "  print(\"ola mundo\")"
      ]
    },
    {
      "cell_type": "markdown",
      "source": [
        "Soma"
      ],
      "metadata": {
        "id": "VhGc48fGwB8-"
      }
    },
    {
      "cell_type": "code",
      "source": [
        "def soma(y, x):\n",
        "  print(f\"Soma: {y+x}\")\n",
        "\n",
        "  soma"
      ],
      "metadata": {
        "id": "OFJQcz3UwSKk"
      },
      "execution_count": 10,
      "outputs": []
    },
    {
      "cell_type": "markdown",
      "source": [
        "1. Crie uma função que receba o nome de um aluno e exiba uma mensagem de boas-vindas."
      ],
      "metadata": {
        "id": "ZqJfgvjs17cT"
      }
    },
    {
      "cell_type": "code",
      "source": [
        "nome = input(\"Digite seu nome: \")\n",
        "\n",
        "def saudacao(nome):\n",
        "  print(f\"Bem vindo(a), {nome}\")\n",
        "\n",
        "saudacao(nome)\n",
        "\n"
      ],
      "metadata": {
        "colab": {
          "base_uri": "https://localhost:8080/"
        },
        "id": "_KsBKKJp19Xr",
        "outputId": "be67ef66-9238-4d5d-90b2-5aed8715656f"
      },
      "execution_count": 15,
      "outputs": [
        {
          "output_type": "stream",
          "name": "stdout",
          "text": [
            "Digite seu nome: Julia\n",
            "Bem vindo(a), Julia\n"
          ]
        }
      ]
    },
    {
      "cell_type": "markdown",
      "source": [
        "2. Crie uma função que receba dois números e retorne a média entre eles."
      ],
      "metadata": {
        "id": "VeVGMwm13cJM"
      }
    },
    {
      "cell_type": "code",
      "source": [
        "numeroa = int(input(\"Digite o primeiro numero: \"))\n",
        "numerob = int(input(\"Digite o segundo numero: \"))\n",
        "\n",
        "def media(numeroa, numerob):\n",
        "  media = (numeroa + numerob)/2\n",
        "  print(f'A média dos {numeroa} e {numerob} é: {media}')\n",
        "\n",
        "media(numeroa, numerob)"
      ],
      "metadata": {
        "colab": {
          "base_uri": "https://localhost:8080/"
        },
        "id": "-wHBeJKa3hRe",
        "outputId": "6fd9845b-1852-4321-8cd0-ffc2ae940b96"
      },
      "execution_count": 17,
      "outputs": [
        {
          "output_type": "stream",
          "name": "stdout",
          "text": [
            "Digite o primeiro numero: 10\n",
            "Digite o segundo numero: 5\n",
            "A média dos 10 e 5 é: 7.5\n"
          ]
        }
      ]
    },
    {
      "cell_type": "markdown",
      "source": [
        "3. Crie uma função que receba uma lista de números e retorne quantos são pares."
      ],
      "metadata": {
        "id": "RGgz1Cni4Ev2"
      }
    },
    {
      "cell_type": "code",
      "source": [
        "def eh_par(n):\n",
        "    return n % 2 == 0\n",
        "\n",
        "for i in range(1, 11):\n",
        "    numero = int(input(f\"Digite o {i}º número: \"))\n",
        "\n",
        "    if eh_par(numero):\n",
        "        print(f\"O número {numero} é par.\")\n",
        "    else:\n",
        "        print(f\"O número {numero} é ímpar.\")\n"
      ],
      "metadata": {
        "id": "98reF2QE4sSQ"
      },
      "execution_count": null,
      "outputs": []
    },
    {
      "cell_type": "markdown",
      "source": [
        "4. Crie uma função chamada eh_primo(numero) que retorne True se o número for primo."
      ],
      "metadata": {
        "id": "CXoSlOlM6Es5"
      }
    },
    {
      "cell_type": "code",
      "source": [
        "def eh_primo(numero):\n",
        "    if numero <= 1:\n",
        "        return False\n",
        "    for i in range(2, int(numero ** 0.5) + 1):\n",
        "        if numero % i == 0:\n",
        "            return False\n",
        "    return True\n",
        "\n",
        "numero = int(input(\"Digite um número: \"))\n",
        "if eh_primo(numero):\n",
        "    print(f\"O número {numero} é primo.\")\n",
        "else:\n",
        "    print(f\"O número {numero} não é primo.\")\n"
      ],
      "metadata": {
        "colab": {
          "base_uri": "https://localhost:8080/"
        },
        "id": "pk7BYhp64Ech",
        "outputId": "b65e08ce-44d8-43fa-b535-267e6c004785"
      },
      "execution_count": 32,
      "outputs": [
        {
          "output_type": "stream",
          "name": "stdout",
          "text": [
            "Digite um número: 2\n",
            "O número 2 é primo.\n"
          ]
        }
      ]
    },
    {
      "cell_type": "markdown",
      "source": [
        "5. Crie uma função converter_para_fahrenheit(celsius) que converta graus Celsius para Fahrenheit."
      ],
      "metadata": {
        "id": "LjHzMPT578mQ"
      }
    },
    {
      "cell_type": "code",
      "source": [
        "def converter_para_fahrenheit(celsius):\n",
        "    fahrenheit = (celsius * 9/5) + 32\n",
        "    return fahrenheit\n",
        "\n",
        "celsius = float(input(\"Digite a temperatura em Celsius: \"))\n",
        "fahrenheit = converter_para_fahrenheit(celsius)\n",
        "print(f\"{celsius} graus Celsius equivalem a {fahrenheit} graus Fahrenheit.\")"
      ],
      "metadata": {
        "colab": {
          "base_uri": "https://localhost:8080/"
        },
        "id": "RHzaIX2j8C-P",
        "outputId": "926dfba2-5682-4280-d2ec-da8b928675f4"
      },
      "execution_count": 33,
      "outputs": [
        {
          "output_type": "stream",
          "name": "stdout",
          "text": [
            "Digite a temperatura em Celsius: 20\n",
            "20.0 graus Celsius equivalem a 68.0 graus Fahrenheit.\n"
          ]
        }
      ]
    },
    {
      "cell_type": "markdown",
      "source": [
        "6. Crie uma função valida_idade(idade) que retorne se a pessoa é maior de idade."
      ],
      "metadata": {
        "id": "2xv6esSB8TWy"
      }
    },
    {
      "cell_type": "code",
      "source": [
        "def valida_idade(idade):\n",
        "    if idade >= 18:\n",
        "        return print(\"Você é maior de idade\")\n",
        "\n",
        "    else:\n",
        "        return print(\"Você é menor de idade\")\n",
        "\n",
        "idade = int(input(\"Digite sua idade: \"))\n",
        "valida_idade(idade)\n",
        "\n"
      ],
      "metadata": {
        "colab": {
          "base_uri": "https://localhost:8080/"
        },
        "id": "VKy8BRO88mz_",
        "outputId": "746264ba-2421-4774-c503-82cb898242ea"
      },
      "execution_count": 38,
      "outputs": [
        {
          "output_type": "stream",
          "name": "stdout",
          "text": [
            "Digite sua idade: 20\n",
            "Você é maior de idade\n"
          ]
        }
      ]
    },
    {
      "cell_type": "markdown",
      "source": [
        "7. Crie uma função exibe_menu() que imprima um menu simples na tela."
      ],
      "metadata": {
        "id": "-tjc8ZnX89sM"
      }
    },
    {
      "cell_type": "code",
      "source": [
        "def exibe_menu():\n",
        "    print(\"Menu:\")\n",
        "    print(\"1. Opção 1\")\n",
        "    print(\"2. Opção 2\")\n",
        "    print(\"3. Opção 3\")\n",
        "\n",
        "exibe_menu()"
      ],
      "metadata": {
        "colab": {
          "base_uri": "https://localhost:8080/"
        },
        "id": "bD7-YJD99CMS",
        "outputId": "2cf489a2-d78b-4711-f168-8bd0a77a0ed9"
      },
      "execution_count": 39,
      "outputs": [
        {
          "output_type": "stream",
          "name": "stdout",
          "text": [
            "Menu:\n",
            "1. Opção 1\n",
            "2. Opção 2\n",
            "3. Opção 3\n"
          ]
        }
      ]
    },
    {
      "cell_type": "markdown",
      "source": [
        "8. Crie uma função calcular_desconto(valor, percentual=10) que aplique um desconto percentual ao valor."
      ],
      "metadata": {
        "id": "eYzOUqIX9L4x"
      }
    },
    {
      "cell_type": "code",
      "source": [
        "def calcular_desconto(valor, percentual=10):\n",
        "    desconto = (percentual / 100) * valor\n",
        "    valor_com_desconto = valor - desconto\n",
        "    return valor_com_desconto\n",
        "\n",
        "valor = float(input(\"Digite o valor do produto: \"))\n",
        "valor_com_desconto = calcular_desconto(valor)\n",
        "print(f\"O valor com desconto é: R${valor_com_desconto:.2f}\")\n"
      ],
      "metadata": {
        "colab": {
          "base_uri": "https://localhost:8080/"
        },
        "id": "AY7mi67G9Loe",
        "outputId": "edee1e4d-9ccb-48e4-bde6-fc3fd2e1a15c"
      },
      "execution_count": 40,
      "outputs": [
        {
          "output_type": "stream",
          "name": "stdout",
          "text": [
            "Digite o valor do produto: 20\n",
            "O valor com desconto é: R$18.00\n"
          ]
        }
      ]
    },
    {
      "cell_type": "markdown",
      "source": [
        "9. Crie uma função que conte o número de vogais em uma palavra.\n"
      ],
      "metadata": {
        "id": "LJf2NhZCGQ0Q"
      }
    },
    {
      "cell_type": "code",
      "source": [
        "def contar_vogais(palavra):\n",
        "    vogais = \"AEIOUaeiou\"\n",
        "    contador = 0\n",
        "    for letra in palavra:\n",
        "        if letra in vogais:\n",
        "            contador += 1\n",
        "    return print(f\"A palavra {palavra} tem {contador} vogais.\")\n",
        "\n",
        "palavra = input(\"Digite uma palavra: \")\n",
        "contar_vogais(palavra)"
      ],
      "metadata": {
        "colab": {
          "base_uri": "https://localhost:8080/"
        },
        "id": "N7A_0B8aGbGA",
        "outputId": "b2bc3ccd-e9cc-49e6-b17b-7ad8cbb3f058"
      },
      "execution_count": 43,
      "outputs": [
        {
          "output_type": "stream",
          "name": "stdout",
          "text": [
            "Digite uma palavra: aba\n",
            "A palavra aba tem 2 vogais.\n"
          ]
        }
      ]
    },
    {
      "cell_type": "markdown",
      "source": [
        "10. Crie um menu com funções para:\n",
        "\n",
        "*   Cadastrar nomes\n",
        "*   Listar nomes\n",
        "*   Sair do programa"
      ],
      "metadata": {
        "id": "yET2Gd5aGrfG"
      }
    },
    {
      "cell_type": "code",
      "source": [
        "def cadastrar_nomes():\n",
        "  nome = input(\"Digite um nome: \")\n",
        "  nomes.append(nome)\n",
        "\n",
        "def listar_nomes():\n",
        "  print(\"Lista de nomes:\")\n",
        "  for nome in nomes:\n",
        "    print(nome)\n",
        "\n",
        "nomes = []\n",
        "\n",
        "def sair():\n",
        "  print(\"Saindo do programa...\")\n",
        "\n",
        "while True:\n",
        "  print(\"\\nMenu:\")\n",
        "  print(\"1. Cadastrar nomes\")\n",
        "  print(\"2. Listar nomes\")\n",
        "  print(\"3. Sair do programa\")\n",
        "  opcao = input(\"Escolha uma opção: \")\n",
        "\n",
        "  if opcao == \"1\":\n",
        "    cadastrar_nomes()\n",
        "  elif opcao == \"2\":\n",
        "    listar_nomes()\n",
        "  elif opcao == \"3\":\n",
        "    sair()\n",
        "    break"
      ],
      "metadata": {
        "colab": {
          "base_uri": "https://localhost:8080/"
        },
        "id": "81V5PNBIG15N",
        "outputId": "6ccdcc07-c698-4bc7-9fea-a918859e41bb"
      },
      "execution_count": 44,
      "outputs": [
        {
          "output_type": "stream",
          "name": "stdout",
          "text": [
            "\n",
            "Menu:\n",
            "1. Cadastrar nomes\n",
            "2. Listar nomes\n",
            "3. Sair do programa\n",
            "Escolha uma opção: 1\n",
            "Digite um nome: Julia\n",
            "\n",
            "Menu:\n",
            "1. Cadastrar nomes\n",
            "2. Listar nomes\n",
            "3. Sair do programa\n",
            "Escolha uma opção: 1\n",
            "Digite um nome: Pedro\n",
            "\n",
            "Menu:\n",
            "1. Cadastrar nomes\n",
            "2. Listar nomes\n",
            "3. Sair do programa\n",
            "Escolha uma opção: 1\n",
            "Digite um nome: Elaine\n",
            "\n",
            "Menu:\n",
            "1. Cadastrar nomes\n",
            "2. Listar nomes\n",
            "3. Sair do programa\n",
            "Escolha uma opção: 2\n",
            "Lista de nomes:\n",
            "Julia\n",
            "Pedro\n",
            "Elaine\n",
            "\n",
            "Menu:\n",
            "1. Cadastrar nomes\n",
            "2. Listar nomes\n",
            "3. Sair do programa\n",
            "Escolha uma opção: 3\n",
            "Saindo do programa...\n"
          ]
        }
      ]
    },
    {
      "cell_type": "markdown",
      "source": [
        "Simule um sistema de cadastro de produtos com as seguintes opções:\n",
        "\n",
        "1 - Cadastrar produto  \n",
        "2 - Listar produtos  \n",
        "3 - Buscar produto pelo nome  \n",
        "4 - Sair\n",
        "* Use uma lista para armazenar os produtos.\n",
        "* Crie funções para cada opção.\n",
        "* Utilize laços de repetição e estruturas de decisão junto com funções."
      ],
      "metadata": {
        "id": "aedRH-xVIzZL"
      }
    },
    {
      "cell_type": "code",
      "source": [
        "produtos = []\n",
        "\n",
        "def cadastrar_produto():\n",
        "    nome = input(\"Digite o nome do produto: \")\n",
        "    produtos.append({\"nome\": nome})\n",
        "\n",
        "def listar_produtos():\n",
        "    print(\"Lista de produtos:\")\n",
        "    for produto in produtos:\n",
        "        print(f\"Nome: {produto['nome']}\")\n",
        "\n",
        "def buscar_produto():\n",
        "    nome = input(\"Digite o nome do produto a ser buscado: \")\n",
        "    encontrado = False\n",
        "    for produto in produtos:\n",
        "        if produto[\"nome\"].lower() == nome.lower():\n",
        "            print(f\"Possuímos o {produto['nome']} no estoque.\")\n",
        "            encontrado = True\n",
        "            break\n",
        "    if not encontrado:\n",
        "        print(\"Produto não encontrado.\")\n",
        "\n",
        "def sair():\n",
        "    print(\"Saindo do programa...\")\n",
        "\n",
        "while True:\n",
        "    print(\"\\nMenu:\")\n",
        "    print(\"1. Cadastrar produto\")\n",
        "    print(\"2. Listar produto\")\n",
        "    print(\"3. Buscar produto\")\n",
        "    print(\"4. Sair do programa\")\n",
        "    opcao = input(\"Escolha uma opção: \")\n",
        "\n",
        "    if opcao == \"1\":\n",
        "        cadastrar_produto()\n",
        "    elif opcao == \"2\":\n",
        "        listar_produtos()\n",
        "    elif opcao == \"3\":\n",
        "        buscar_produto()\n",
        "    elif opcao == \"4\":\n",
        "        sair()\n",
        "        break\n",
        "    else:\n",
        "        print(\"Opção inválida! Tente novamente.\")\n"
      ],
      "metadata": {
        "colab": {
          "base_uri": "https://localhost:8080/"
        },
        "id": "zzF2fEJmI-Yq",
        "outputId": "e297821a-5377-4854-fd51-98dc8be232e3"
      },
      "execution_count": 54,
      "outputs": [
        {
          "output_type": "stream",
          "name": "stdout",
          "text": [
            "\n",
            "Menu:\n",
            "1. Cadastrar produto\n",
            "2. Listar produto\n",
            "3. Buscar produto\n",
            "4. Sair do programa\n",
            "Escolha uma opção: 1\n",
            "Digite o nome do produto: Amaciante\n",
            "\n",
            "Menu:\n",
            "1. Cadastrar produto\n",
            "2. Listar produto\n",
            "3. Buscar produto\n",
            "4. Sair do programa\n",
            "Escolha uma opção: 2\n",
            "Lista de produtos:\n",
            "Nome: Amaciante\n",
            "\n",
            "Menu:\n",
            "1. Cadastrar produto\n",
            "2. Listar produto\n",
            "3. Buscar produto\n",
            "4. Sair do programa\n",
            "Escolha uma opção: 3\n",
            "Digite o nome do produto a ser buscado: Amaciante\n",
            "Possuímos o Amaciante no estoque.\n",
            "\n",
            "Menu:\n",
            "1. Cadastrar produto\n",
            "2. Listar produto\n",
            "3. Buscar produto\n",
            "4. Sair do programa\n",
            "Escolha uma opção: 3\n",
            "Digite o nome do produto a ser buscado: detergente\n",
            "Produto não encontrado.\n",
            "\n",
            "Menu:\n",
            "1. Cadastrar produto\n",
            "2. Listar produto\n",
            "3. Buscar produto\n",
            "4. Sair do programa\n",
            "Escolha uma opção: 5\n",
            "Opção inválida! Tente novamente.\n",
            "\n",
            "Menu:\n",
            "1. Cadastrar produto\n",
            "2. Listar produto\n",
            "3. Buscar produto\n",
            "4. Sair do programa\n",
            "Escolha uma opção: 4\n",
            "Saindo do programa...\n"
          ]
        }
      ]
    }
  ]
}