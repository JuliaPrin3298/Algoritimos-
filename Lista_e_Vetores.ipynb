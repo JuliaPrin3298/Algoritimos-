{
  "nbformat": 4,
  "nbformat_minor": 0,
  "metadata": {
    "colab": {
      "provenance": [],
      "authorship_tag": "ABX9TyNrzHle8RAJZqCaDm7x7S7h",
      "include_colab_link": true
    },
    "kernelspec": {
      "name": "python3",
      "display_name": "Python 3"
    },
    "language_info": {
      "name": "python"
    }
  },
  "cells": [
    {
      "cell_type": "markdown",
      "metadata": {
        "id": "view-in-github",
        "colab_type": "text"
      },
      "source": [
        "<a href=\"https://colab.research.google.com/github/JuliaPrin3298/Algoritimos-/blob/main/Lista_e_Vetores.ipynb\" target=\"_parent\"><img src=\"https://colab.research.google.com/assets/colab-badge.svg\" alt=\"Open In Colab\"/></a>"
      ]
    },
    {
      "cell_type": "markdown",
      "source": [
        "### Vetores ou Listas"
      ],
      "metadata": {
        "id": "OBUSaHR6iYL3"
      }
    },
    {
      "cell_type": "markdown",
      "source": [
        "1. Crie uma lista com 5 números inteiros e exiba cada número ao quadrado.\n"
      ],
      "metadata": {
        "id": "Rdy5ydfdig1E"
      }
    },
    {
      "cell_type": "code",
      "execution_count": 4,
      "metadata": {
        "colab": {
          "base_uri": "https://localhost:8080/"
        },
        "id": "_OD2zpfriHwy",
        "outputId": "180a04b9-71b2-4d78-9569-a11e560ae335"
      },
      "outputs": [
        {
          "output_type": "stream",
          "name": "stdout",
          "text": [
            "O quadrado de 11 é 121\n",
            "O quadrado de 12 é 144\n",
            "O quadrado de 13 é 169\n",
            "O quadrado de 14 é 196\n",
            "O quadrado de 15 é 225\n"
          ]
        }
      ],
      "source": [
        "numeros = [11, 12, 13, 14, 15]\n",
        "\n",
        "for numero in numeros:\n",
        "    quadrado = numero ** 2\n",
        "    print(f\"O quadrado de {numero} é {quadrado}\")"
      ]
    },
    {
      "cell_type": "markdown",
      "source": [
        "2. Peça ao usuário para digitar 5 nomes e armazene-os em uma lista. Depois, exiba os nomes um por um.\n"
      ],
      "metadata": {
        "id": "cfQTE_wtiRa-"
      }
    },
    {
      "cell_type": "code",
      "source": [
        "nomes = []\n",
        "\n",
        "for i in range(5):\n",
        "  nome = input(f\"Digite o nome: \")\n",
        "  nomes.append(nome)\n",
        "\n",
        "print(\"\\nNomes Armazenados:\")\n",
        "for nome in nomes:\n",
        "  print(nome)"
      ],
      "metadata": {
        "colab": {
          "base_uri": "https://localhost:8080/"
        },
        "id": "rxArHxNnq89C",
        "outputId": "2811f07f-17b1-425d-e9fb-b5f8e3cc3542"
      },
      "execution_count": 7,
      "outputs": [
        {
          "output_type": "stream",
          "name": "stdout",
          "text": [
            "Digite o nome: Julia\n",
            "Digite o nome: Pedro\n",
            "Digite o nome: Elaine\n",
            "Digite o nome: Fernando\n",
            "Digite o nome: Alberto\n",
            "\n",
            "Nomes Armazenados:\n",
            "Julia\n",
            "Pedro\n",
            "Elaine\n",
            "Fernando\n",
            "Alberto\n"
          ]
        }
      ]
    },
    {
      "cell_type": "markdown",
      "source": [
        "3. Crie uma lista com 10 números e mostre apenas os números pares."
      ],
      "metadata": {
        "id": "AUaXH-lKsHEm"
      }
    },
    {
      "cell_type": "code",
      "source": [
        "numeros = [1, 2, 3, 4, 5 ,6 ,7 ,8, 9, 10]\n",
        "\n",
        "for numero in numeros:\n",
        "  if numero % 2 == 0:\n",
        "   print(f\"Esse número é par, {numero}\")"
      ],
      "metadata": {
        "colab": {
          "base_uri": "https://localhost:8080/"
        },
        "id": "2tuPE6jYsKRX",
        "outputId": "0da00e92-8a02-4b93-8e54-1009badf1667"
      },
      "execution_count": 14,
      "outputs": [
        {
          "output_type": "stream",
          "name": "stdout",
          "text": [
            "Esse número é par, 2\n",
            "Esse número é par, 4\n",
            "Esse número é par, 6\n",
            "Esse número é par, 8\n",
            "Esse número é par, 10\n"
          ]
        }
      ]
    },
    {
      "cell_type": "markdown",
      "source": [
        "4. Some todos os elementos de uma lista de inteiros digitados pelo usuário."
      ],
      "metadata": {
        "id": "emA9ICQrtFBE"
      }
    },
    {
      "cell_type": "code",
      "source": [
        "numeros = []\n",
        "\n",
        "while True:\n",
        "  numero = int(input(\"Digite um número (ou '0' para encerrar): \"))\n",
        "  if numero ==  0 :\n",
        "    break\n",
        "  numeros.append(numero)\n",
        "\n",
        "soma = sum(numeros)\n",
        "print(f\"A soma dos números é: {soma}\")"
      ],
      "metadata": {
        "colab": {
          "base_uri": "https://localhost:8080/"
        },
        "id": "__lh7jLUtOc-",
        "outputId": "dc9d7483-9920-421e-a524-86ae5edba85b"
      },
      "execution_count": 18,
      "outputs": [
        {
          "output_type": "stream",
          "name": "stdout",
          "text": [
            "Digite um número (ou '0' para encerrar): 1\n",
            "Digite um número (ou '0' para encerrar): 4\n",
            "Digite um número (ou '0' para encerrar): 2\n",
            "Digite um número (ou '0' para encerrar): 3\n",
            "Digite um número (ou '0' para encerrar): 0\n",
            "A soma dos números é: 10\n"
          ]
        }
      ]
    },
    {
      "cell_type": "markdown",
      "source": [
        "5. Conte quantas vezes o número 3 aparece em uma lista."
      ],
      "metadata": {
        "id": "BXHWrdvmurwc"
      }
    },
    {
      "cell_type": "code",
      "source": [
        "numeros = [1, 2, 3, 5, 3, 1, 3, 3, 2, 3]\n",
        "\n",
        "quantidade = numeros.count(3)\n",
        "print(f\"O número 3 aparece {quantidade} vezes na lista\")\n"
      ],
      "metadata": {
        "colab": {
          "base_uri": "https://localhost:8080/"
        },
        "id": "qdUamIQOuwvV",
        "outputId": "65dcf5fb-fa9e-4ed6-c0ee-f0a9f3e7cbad"
      },
      "execution_count": 35,
      "outputs": [
        {
          "output_type": "stream",
          "name": "stdout",
          "text": [
            "O número 3 aparece 5 vezes na lista\n"
          ]
        }
      ]
    },
    {
      "cell_type": "markdown",
      "source": [
        "6. Verifique se um nome digitado pelo usuário está em uma lista de nomes."
      ],
      "metadata": {
        "id": "Jw3f1YgZwvts"
      }
    },
    {
      "cell_type": "code",
      "source": [
        "nomes = [\"Clarita\", \"Ronildo\", \"Heleno\"]\n",
        "\n",
        "nome = input(\"Digite um nome:\")\n",
        "\n",
        "if nome in nomes:\n",
        "  print(f\"{nome} está presente na lista\")\n",
        "else:\n",
        "  print(f\"{nome} não está presente na lista\")"
      ],
      "metadata": {
        "colab": {
          "base_uri": "https://localhost:8080/"
        },
        "id": "lfNJNS2Pw0i6",
        "outputId": "713b3285-f500-4126-8fcb-00bce26770d2"
      },
      "execution_count": 39,
      "outputs": [
        {
          "output_type": "stream",
          "name": "stdout",
          "text": [
            "Digite um nome:Clarita\n",
            "Clarita está presente na lista\n"
          ]
        }
      ]
    },
    {
      "cell_type": "markdown",
      "source": [
        "7. Faça um programa que leia 10 números e armazene em duas listas: uma com pares e outra com ímpares."
      ],
      "metadata": {
        "id": "p63OsEmuxrzo"
      }
    },
    {
      "cell_type": "code",
      "source": [
        "pares = []\n",
        "impares = []\n",
        "\n",
        "for i in range(10):\n",
        "  numero = int(input(f\"Digite o {i + 1}° número: \"))\n",
        "  if numero % 2 == 0:\n",
        "    pares.append(numero)\n",
        "  else:\n",
        "    impares.append(numero)\n",
        "\n",
        "print(\"\\nNúmeros pares:\", pares)\n",
        "print(\"\\nNúmeros ímpares:\", impares)\n"
      ],
      "metadata": {
        "colab": {
          "base_uri": "https://localhost:8080/"
        },
        "id": "du1CbJcPxwTH",
        "outputId": "6e595ae0-be09-40bf-973d-75fe780b36b3"
      },
      "execution_count": 40,
      "outputs": [
        {
          "output_type": "stream",
          "name": "stdout",
          "text": [
            "Digite o 1° número: 1\n",
            "Digite o 2° número: 2\n",
            "Digite o 3° número: 3\n",
            "Digite o 4° número: 4\n",
            "Digite o 5° número: 5\n",
            "Digite o 6° número: 6\n",
            "Digite o 7° número: 7\n",
            "Digite o 8° número: 8\n",
            "Digite o 9° número: 9\n",
            "Digite o 10° número: 0\n",
            "\n",
            "Números pares: [2, 4, 6, 8, 0]\n",
            "\n",
            "Números ímpares: [1, 3, 5, 7, 9]\n"
          ]
        }
      ]
    },
    {
      "cell_type": "markdown",
      "source": [
        "8. Leia uma lista de 5 nomes e mostre a lista em ordem alfabética."
      ],
      "metadata": {
        "id": "SfNX97IDyn27"
      }
    },
    {
      "cell_type": "code",
      "source": [
        "nomes = [\"Bagi\", \"Cell\", \"Celina\", \"Will\", \"Nora\"]\n",
        "\n",
        "nomes.sort()\n",
        "print(nomes)"
      ],
      "metadata": {
        "colab": {
          "base_uri": "https://localhost:8080/"
        },
        "id": "AAdFsasfysWP",
        "outputId": "2a444857-0ab9-498d-d986-f80d7ae4cbea"
      },
      "execution_count": 41,
      "outputs": [
        {
          "output_type": "stream",
          "name": "stdout",
          "text": [
            "['Bagi', 'Celina', 'Cell', 'Nora', 'Will']\n"
          ]
        }
      ]
    },
    {
      "cell_type": "markdown",
      "source": [
        "9. Crie uma lista com 5 notas de alunos, calcule a média e diga quais alunos ficaram acima da média."
      ],
      "metadata": {
        "id": "60DU-QvxzhrZ"
      }
    },
    {
      "cell_type": "code",
      "source": [
        "notas = [(\"Carlos\", 10), (\"Joana\", 7), (\"César\", 2), (\"Margarida\", 10), (\"Alice\", 3)]\n",
        "\n",
        "for nome, nota in notas:\n",
        "  if nota > 5:\n",
        "    print(f\"{nome} ficou acima da média\")\n",
        "  else:\n",
        "    print(f\"{nome} ficou abaixo da média\")\n"
      ],
      "metadata": {
        "colab": {
          "base_uri": "https://localhost:8080/"
        },
        "id": "2ZxkkO40zk-H",
        "outputId": "a4730104-ff90-4cd0-bf47-de07bd48f56e"
      },
      "execution_count": 42,
      "outputs": [
        {
          "output_type": "stream",
          "name": "stdout",
          "text": [
            "Carlos ficou acima da média\n",
            "Joana ficou acima da média\n",
            "César ficou abaixo da média\n",
            "Margarida ficou acima da média\n",
            "Alice ficou abaixo da média\n"
          ]
        }
      ]
    },
    {
      "cell_type": "markdown",
      "source": [
        "10. Faça um programa que leia números do usuário até que ele digite 0. Depois, mostre a lista e a soma dos números."
      ],
      "metadata": {
        "id": "2ljKRPAj1U10"
      }
    },
    {
      "cell_type": "code",
      "source": [
        "numeros = []\n",
        "\n",
        "while True:\n",
        "  numero = int(input(\"Digite um número (ou '0' para encerrar): \"))\n",
        "  if numero ==  0 :\n",
        "    break\n",
        "  numeros.append(numero)\n",
        "\n",
        "soma = sum(numeros)\n",
        "print(f\"Números digitados: {numeros}\")\n",
        "print(f\"A soma dos números é: {soma}\")"
      ],
      "metadata": {
        "colab": {
          "base_uri": "https://localhost:8080/"
        },
        "id": "C5DGDrEW1ZjR",
        "outputId": "2cfc6041-2420-4695-9864-f6bdb9b946ad"
      },
      "execution_count": 44,
      "outputs": [
        {
          "output_type": "stream",
          "name": "stdout",
          "text": [
            "Digite um número (ou '0' para encerrar): 10\n",
            "Digite um número (ou '0' para encerrar): 20\n",
            "Digite um número (ou '0' para encerrar): 30\n",
            "Digite um número (ou '0' para encerrar): 40\n",
            "Digite um número (ou '0' para encerrar): 50\n",
            "Digite um número (ou '0' para encerrar): 0\n",
            "Números digitados: [10, 20, 30, 40, 50]\n",
            "A soma dos números é: 150\n"
          ]
        }
      ]
    },
    {
      "cell_type": "markdown",
      "source": [
        "11. Remova todos os números negativos de uma lista de inteiros."
      ],
      "metadata": {
        "id": "N35HFzQB6tX3"
      }
    },
    {
      "cell_type": "code",
      "source": [
        "numeros = [-1, -2, -3, -4, -5, -6, 2, 1, 0, 4]\n",
        "\n",
        "for numero in numeros.copy():\n",
        "    if numero < 0:\n",
        "        numeros.remove(numero)\n",
        "\n",
        "print(f\"Números positivos: {numeros}\")\n"
      ],
      "metadata": {
        "colab": {
          "base_uri": "https://localhost:8080/"
        },
        "id": "VpnrZT6F6w54",
        "outputId": "fd989cbd-0412-44af-cef4-e43208702070"
      },
      "execution_count": 54,
      "outputs": [
        {
          "output_type": "stream",
          "name": "stdout",
          "text": [
            "Números positivos: [2, 1, 0, 4]\n"
          ]
        }
      ]
    },
    {
      "cell_type": "markdown",
      "source": [
        "12. Substitua todos os números ímpares de uma lista por zero."
      ],
      "metadata": {
        "id": "eRma9NvT9G3g"
      }
    },
    {
      "cell_type": "code",
      "source": [
        "numeros = [1, 2, 3, 4, 5, 6, 7, 8, 9]\n",
        "\n",
        "for numero in numeros.copy():\n",
        "    if numero % 2 != 0:\n",
        "        numeros.remove(numero)\n",
        "        numeros.append(0)\n",
        "\n",
        "print(f\"Números pares: {numeros}\")"
      ],
      "metadata": {
        "colab": {
          "base_uri": "https://localhost:8080/"
        },
        "id": "xo06EYaJ9Ntd",
        "outputId": "4b018a64-a4d9-4d12-e94b-b955d11fec61"
      },
      "execution_count": 55,
      "outputs": [
        {
          "output_type": "stream",
          "name": "stdout",
          "text": [
            "Números pares: [2, 4, 6, 8, 0, 0, 0, 0, 0]\n"
          ]
        }
      ]
    },
    {
      "cell_type": "markdown",
      "source": [
        "13. Leia uma lista de números e crie uma nova lista apenas com os valores únicos (sem repetições)."
      ],
      "metadata": {
        "id": "F1Jt-Wyv92n6"
      }
    },
    {
      "cell_type": "code",
      "source": [
        "numeros = [1,1,1,2,3,4,4,5,5,6,6]\n",
        "\n",
        "for numero in numeros.copy():\n",
        "  if numeros.count(numero) > 1:\n",
        "    numeros.remove(numero)\n",
        "\n",
        "print(f\"Números únicos: {numeros}\")\n"
      ],
      "metadata": {
        "colab": {
          "base_uri": "https://localhost:8080/"
        },
        "id": "qWKEar8P96_J",
        "outputId": "e8f0079f-295b-4205-b04d-0283dae7fd81"
      },
      "execution_count": 59,
      "outputs": [
        {
          "output_type": "stream",
          "name": "stdout",
          "text": [
            "Números únicos: [1, 2, 3, 4, 5, 6]\n"
          ]
        }
      ]
    },
    {
      "cell_type": "markdown",
      "source": [
        "14. Crie uma lista com 5 strings e conte quantas começam com a letra 'A'."
      ],
      "metadata": {
        "id": "Rkmrc-5D-k2j"
      }
    },
    {
      "cell_type": "code",
      "source": [
        "frutas = [\"Abacaxi\", \"Amora\", \"Acerola\", \"Banana\", \"Uva\"]\n",
        "\n",
        "contador = 0\n",
        "\n",
        "for fruta in frutas:\n",
        "  if fruta.startswith(\"A\"):\n",
        "    contador += 1\n",
        "\n",
        "print(f\"Existem {contador} frutas que começam com a letra A\")\n"
      ],
      "metadata": {
        "colab": {
          "base_uri": "https://localhost:8080/"
        },
        "id": "b_SYJJ37-pMF",
        "outputId": "d05ad1f5-3976-46be-f336-30fbf65b1a9f"
      },
      "execution_count": 60,
      "outputs": [
        {
          "output_type": "stream",
          "name": "stdout",
          "text": [
            "Existem 3 frutas que começam com a letra A\n"
          ]
        }
      ]
    },
    {
      "cell_type": "markdown",
      "source": [
        "15. Leia 10 números e ordene a lista do maior para o menor."
      ],
      "metadata": {
        "id": "0CG-TaD4_Y9d"
      }
    },
    {
      "cell_type": "code",
      "source": [
        "numeros = [5, 10, 15, 20, 25, 30, 35, 40, 45, 50]\n",
        "\n",
        "for numero in numeros:\n",
        "  numeros.sort(reverse=True)\n",
        "\n",
        "print(f\"Números em ordem decrescente: {numeros}\")"
      ],
      "metadata": {
        "colab": {
          "base_uri": "https://localhost:8080/"
        },
        "id": "mGWMj6f3_dhG",
        "outputId": "d33a5851-4dc1-40f4-ef5e-6be1754c17fa"
      },
      "execution_count": 65,
      "outputs": [
        {
          "output_type": "stream",
          "name": "stdout",
          "text": [
            "Números em ordem decrescente: [50, 45, 40, 35, 30, 25, 20, 15, 10, 5]\n"
          ]
        }
      ]
    },
    {
      "cell_type": "markdown",
      "source": [
        "16. Junte duas listas e remova os elementos repetidos."
      ],
      "metadata": {
        "id": "-STw-RBnAIfC"
      }
    },
    {
      "cell_type": "code",
      "source": [
        "listaA = [1,2, 3, 4, 5, 6, 7]\n",
        "listaB = [1, 2, 3, 4, 5, 6, 7, 8, 9]\n",
        "\n",
        "listaC = listaA + listaB\n",
        "print(f\"Juntando as listas: {listaC}\")\n",
        "\n",
        "for numero in listaC.copy():\n",
        "  if listaC.count(numero) > 1:\n",
        "    listaC.remove(numero)\n",
        "\n",
        "print(f\"Lista sem repetição: {listaC}\")"
      ],
      "metadata": {
        "colab": {
          "base_uri": "https://localhost:8080/"
        },
        "id": "orwkjE2fAMQ6",
        "outputId": "d317e3dd-4b73-4ddd-9152-7fda9b880fe2"
      },
      "execution_count": 68,
      "outputs": [
        {
          "output_type": "stream",
          "name": "stdout",
          "text": [
            "Juntando as listas: [1, 2, 3, 4, 5, 6, 7, 1, 2, 3, 4, 5, 6, 7, 8, 9]\n",
            "Lista sem repetição: [1, 2, 3, 4, 5, 6, 7, 8, 9]\n"
          ]
        }
      ]
    },
    {
      "cell_type": "markdown",
      "source": [
        "17. Faça uma função que recebe uma lista de números e retorna uma nova lista com o fatorial de cada número."
      ],
      "metadata": {
        "id": "nkC6JnrsAzg9"
      }
    },
    {
      "cell_type": "code",
      "source": [
        "import math\n",
        "\n",
        "def lista_fatoriais(lista):\n",
        "    return [math.factorial(num) for num in lista]\n",
        "\n",
        "numeros = [0, 1, 3, 5]\n",
        "resultado = lista_fatoriais(numeros)\n",
        "\n",
        "print(f\"Lista original: {numeros}\")\n",
        "print(f\"Fatoriais: {resultado}\")\n"
      ],
      "metadata": {
        "colab": {
          "base_uri": "https://localhost:8080/"
        },
        "id": "bJWuqP1sA3-N",
        "outputId": "985006bf-d9cb-401c-a2fe-360010436d96"
      },
      "execution_count": 69,
      "outputs": [
        {
          "output_type": "stream",
          "name": "stdout",
          "text": [
            "Lista original: [0, 1, 3, 5]\n",
            "Fatoriais: [1, 1, 6, 120]\n"
          ]
        }
      ]
    },
    {
      "cell_type": "markdown",
      "source": [
        "18. Faça uma função que recebe uma lista e retorna outra com os elementos em ordem reversa (sem usar .reverse() ou [::-1])."
      ],
      "metadata": {
        "id": "CHGimnluB7fz"
      }
    },
    {
      "cell_type": "code",
      "source": [
        "def inverter_lista(lista):\n",
        "    invertida = []\n",
        "    for elemento in lista:\n",
        "        invertida.insert(0, elemento)  # insere sempre no início\n",
        "    return invertida\n",
        "\n",
        "# Exemplo\n",
        "nomes = [\"Ana\", \"Bruno\", \"Carlos\", \"Diana\"]\n",
        "print(\"Original:\", nomes)\n",
        "print(\"Invertida:\", inverter_lista(nomes))\n"
      ],
      "metadata": {
        "colab": {
          "base_uri": "https://localhost:8080/"
        },
        "id": "IJ86yhmVCIfp",
        "outputId": "d4df5207-4f0f-49c1-b0eb-7ccad7c321b7"
      },
      "execution_count": 70,
      "outputs": [
        {
          "output_type": "stream",
          "name": "stdout",
          "text": [
            "Original: ['Ana', 'Bruno', 'Carlos', 'Diana']\n",
            "Invertida: ['Diana', 'Carlos', 'Bruno', 'Ana']\n"
          ]
        }
      ]
    },
    {
      "cell_type": "markdown",
      "source": [
        "19. Simule um carrinho de compras: adicione produtos até que o usuário digite 'fim' e, no final, mostre o carrinho."
      ],
      "metadata": {
        "id": "tPZck8X0C6rD"
      }
    },
    {
      "cell_type": "code",
      "source": [
        "carrinho = []\n",
        "\n",
        "while True:\n",
        "  compra = input(\"Digite suas compras (ou 'fim' para encerrar): \")\n",
        "  if compra ==  'fim' :\n",
        "    break\n",
        "  carrinho.append(compra)\n",
        "\n",
        "print(f\"Itens do carrinho: {carrinho}\")"
      ],
      "metadata": {
        "colab": {
          "base_uri": "https://localhost:8080/"
        },
        "id": "CKrTQ6z0B_k-",
        "outputId": "25e3793a-1a07-4098-d747-781600af3389"
      },
      "execution_count": 74,
      "outputs": [
        {
          "output_type": "stream",
          "name": "stdout",
          "text": [
            "Digite suas compras (ou 'fim' para encerrar): alface\n",
            "Digite suas compras (ou 'fim' para encerrar): pepino\n",
            "Digite suas compras (ou 'fim' para encerrar): azeitona\n",
            "Digite suas compras (ou 'fim' para encerrar): tomate\n",
            "Digite suas compras (ou 'fim' para encerrar): cenoura\n",
            "Digite suas compras (ou 'fim' para encerrar): batata\n",
            "Digite suas compras (ou 'fim' para encerrar): fim\n",
            "Itens do carrinho: ['alface', 'pepino', 'azeitona', 'tomate', 'cenoura', 'batata']\n"
          ]
        }
      ]
    },
    {
      "cell_type": "markdown",
      "source": [
        "20. Desenvolva um menu de opções para gerenciar uma lista de tarefas: adicionar, remover, exibir e sair.\n"
      ],
      "metadata": {
        "id": "f_nOYdNrD_hO"
      }
    },
    {
      "cell_type": "code",
      "source": [
        "tarefas = []\n",
        "print(\"1. Adicionar tarefa\")\n",
        "print(\"2. Remover tarefa\")\n",
        "print(\"3. Exibir tarefas\")\n",
        "print(\"4. Sair\")\n",
        "\n",
        "while True:\n",
        "  opcao = int(input(\"Digite o que deseja realizar: \"))\n",
        "  if opcao ==  1 :\n",
        "    tarefa = input(\"Digite sua tarefa: \")\n",
        "    tarefas.append(tarefa)\n",
        "  elif opcao == 2:\n",
        "    tarefa = input(\"Digite a tarefa que deseja excluir: \")\n",
        "    tarefas.remove(tarefa)\n",
        "  elif opcao == 3:\n",
        "    print(\"Tarefas:\")\n",
        "    print(tarefas)\n",
        "  elif opcao == 4:\n",
        "    break"
      ],
      "metadata": {
        "colab": {
          "base_uri": "https://localhost:8080/"
        },
        "id": "RbJjeA3nECv1",
        "outputId": "df2d92ee-3b12-4b58-d222-991c6d561276"
      },
      "execution_count": 77,
      "outputs": [
        {
          "name": "stdout",
          "output_type": "stream",
          "text": [
            "1. Adicionar tarefa\n",
            "2. Remover tarefa\n",
            "3. Exibir tarefas\n",
            "4. Sair\n",
            "Digite o que deseja realizar: 3\n",
            "Tarefas:\n",
            "[]\n",
            "Digite o que deseja realizar: 1\n",
            "Digite sua tarefa: Lavar roupa\n",
            "Digite o que deseja realizar: 1\n",
            "Digite sua tarefa: Lavar louça\n",
            "Digite o que deseja realizar: 2\n",
            "Digite a tarefa que deseja excluir: Lavar louça\n",
            "Digite o que deseja realizar: 1\n",
            "Digite sua tarefa: Limpar armarios\n",
            "Digite o que deseja realizar: 3\n",
            "Tarefas:\n",
            "['Lavar roupa', 'Limpar armarios']\n",
            "Digite o que deseja realizar: 4\n"
          ]
        }
      ]
    }
  ]
}